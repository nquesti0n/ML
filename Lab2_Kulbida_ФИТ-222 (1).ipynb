{
 "cells": [
  {
   "attachments": {},
   "cell_type": "markdown",
   "metadata": {},
   "source": [
    "## Инициализация проекта"
   ]
  },
  {
   "cell_type": "code",
   "execution_count": 54,
   "metadata": {},
   "outputs": [],
   "source": [
    "import pandas as pd\n",
    "import matplotlib.pyplot as plt\n",
    "import numpy as np\n",
    "import seaborn as sns\n",
    "import warnings\n",
    "from datetime import datetime, date, time"
   ]
  },
  {
   "cell_type": "code",
   "execution_count": 55,
   "metadata": {},
   "outputs": [],
   "source": [
    "data=pd.read_csv(f'DataSet2.csv')"
   ]
  },
  {
   "attachments": {},
   "cell_type": "markdown",
   "metadata": {},
   "source": [
    "## Исследование исходных данных"
   ]
  },
  {
   "cell_type": "code",
   "execution_count": 56,
   "metadata": {},
   "outputs": [],
   "source": [
    "pd.set_option('display.max_columns', None)"
   ]
  },
  {
   "cell_type": "code",
   "execution_count": 57,
   "metadata": {},
   "outputs": [
    {
     "data": {
      "text/html": [
       "<div>\n",
       "<style scoped>\n",
       "    .dataframe tbody tr th:only-of-type {\n",
       "        vertical-align: middle;\n",
       "    }\n",
       "\n",
       "    .dataframe tbody tr th {\n",
       "        vertical-align: top;\n",
       "    }\n",
       "\n",
       "    .dataframe thead th {\n",
       "        text-align: right;\n",
       "    }\n",
       "</style>\n",
       "<table border=\"1\" class=\"dataframe\">\n",
       "  <thead>\n",
       "    <tr style=\"text-align: right;\">\n",
       "      <th></th>\n",
       "      <th>Unnamed: 0</th>\n",
       "      <th>Film</th>\n",
       "      <th>Oscar Year</th>\n",
       "      <th>Film Studio/Producer(s)</th>\n",
       "      <th>Award</th>\n",
       "      <th>Year of Release</th>\n",
       "      <th>Movie Time</th>\n",
       "      <th>Movie Genre</th>\n",
       "      <th>IMDB Rating</th>\n",
       "      <th>IMDB Votes</th>\n",
       "      <th>Movie Info</th>\n",
       "      <th>Genres</th>\n",
       "      <th>Critic Consensus</th>\n",
       "      <th>Content Rating</th>\n",
       "      <th>Directors</th>\n",
       "      <th>Authors</th>\n",
       "      <th>Actors</th>\n",
       "      <th>Original Release Date</th>\n",
       "      <th>Streaming Release Date</th>\n",
       "      <th>Production Company</th>\n",
       "      <th>Tomatometer Status</th>\n",
       "      <th>Tomatometer Rating</th>\n",
       "      <th>Tomatometer Count</th>\n",
       "      <th>Audience Status</th>\n",
       "      <th>Audience Rating</th>\n",
       "      <th>Audience Count</th>\n",
       "      <th>Tomatometer Top Critics Count</th>\n",
       "      <th>Tomatometer Fresh Critics Count</th>\n",
       "      <th>Tomatometer Rotten Critics Count</th>\n",
       "      <th>Film ID</th>\n",
       "    </tr>\n",
       "  </thead>\n",
       "  <tbody>\n",
       "    <tr>\n",
       "      <th>0</th>\n",
       "      <td>0</td>\n",
       "      <td>Wings</td>\n",
       "      <td>1927/28</td>\n",
       "      <td>Famous Players-Lasky</td>\n",
       "      <td>Winner</td>\n",
       "      <td>1927</td>\n",
       "      <td>144</td>\n",
       "      <td>Drama,Romance,War</td>\n",
       "      <td>7.5</td>\n",
       "      <td>12,221</td>\n",
       "      <td>With World War I afoot, David Armstrong (Richa...</td>\n",
       "      <td>Action &amp; Adventure, Classics</td>\n",
       "      <td>Subsequent war epics may have borrowed heavily...</td>\n",
       "      <td>PG-13</td>\n",
       "      <td>William Wellman</td>\n",
       "      <td>Hope Loring, Louis D. Lighton</td>\n",
       "      <td>Clara Bow, Charles 'Buddy' Rogers, Richard Arl...</td>\n",
       "      <td>1927-08-12</td>\n",
       "      <td>2017-01-02</td>\n",
       "      <td>Unknown</td>\n",
       "      <td>Certified-Fresh</td>\n",
       "      <td>93.0</td>\n",
       "      <td>46.0</td>\n",
       "      <td>Upright</td>\n",
       "      <td>78.0</td>\n",
       "      <td>3530.0</td>\n",
       "      <td>9.0</td>\n",
       "      <td>43.0</td>\n",
       "      <td>3.0</td>\n",
       "      <td>2becf7d5-a3de-46ab-ae45-abdd6b588067</td>\n",
       "    </tr>\n",
       "    <tr>\n",
       "      <th>1</th>\n",
       "      <td>1</td>\n",
       "      <td>7th Heaven</td>\n",
       "      <td>1927/28</td>\n",
       "      <td>Fox</td>\n",
       "      <td>Nominee</td>\n",
       "      <td>1927</td>\n",
       "      <td>110</td>\n",
       "      <td>Drama,Romance</td>\n",
       "      <td>7.7</td>\n",
       "      <td>3,439</td>\n",
       "      <td>NaN</td>\n",
       "      <td>NaN</td>\n",
       "      <td>NaN</td>\n",
       "      <td>NaN</td>\n",
       "      <td>NaN</td>\n",
       "      <td>NaN</td>\n",
       "      <td>NaN</td>\n",
       "      <td>NaN</td>\n",
       "      <td>NaN</td>\n",
       "      <td>NaN</td>\n",
       "      <td>NaN</td>\n",
       "      <td>NaN</td>\n",
       "      <td>NaN</td>\n",
       "      <td>NaN</td>\n",
       "      <td>NaN</td>\n",
       "      <td>NaN</td>\n",
       "      <td>NaN</td>\n",
       "      <td>NaN</td>\n",
       "      <td>NaN</td>\n",
       "      <td>19ed3295-a878-4fd2-8e60-5cd7b5f93dad</td>\n",
       "    </tr>\n",
       "    <tr>\n",
       "      <th>2</th>\n",
       "      <td>2</td>\n",
       "      <td>The Racket</td>\n",
       "      <td>1927/28</td>\n",
       "      <td>The Caddo Company</td>\n",
       "      <td>Nominee</td>\n",
       "      <td>1928</td>\n",
       "      <td>84</td>\n",
       "      <td>Crime,Drama,Film-Noir</td>\n",
       "      <td>6.7</td>\n",
       "      <td>1,257</td>\n",
       "      <td>NaN</td>\n",
       "      <td>NaN</td>\n",
       "      <td>NaN</td>\n",
       "      <td>NaN</td>\n",
       "      <td>NaN</td>\n",
       "      <td>NaN</td>\n",
       "      <td>NaN</td>\n",
       "      <td>NaN</td>\n",
       "      <td>NaN</td>\n",
       "      <td>NaN</td>\n",
       "      <td>NaN</td>\n",
       "      <td>NaN</td>\n",
       "      <td>NaN</td>\n",
       "      <td>NaN</td>\n",
       "      <td>NaN</td>\n",
       "      <td>NaN</td>\n",
       "      <td>NaN</td>\n",
       "      <td>NaN</td>\n",
       "      <td>NaN</td>\n",
       "      <td>3111c2d8-0908-4093-8ff3-99c89f2f2f08</td>\n",
       "    </tr>\n",
       "    <tr>\n",
       "      <th>3</th>\n",
       "      <td>3</td>\n",
       "      <td>The Broadway Melody</td>\n",
       "      <td>1928/29</td>\n",
       "      <td>Metro-Goldwyn-Mayer</td>\n",
       "      <td>Winner</td>\n",
       "      <td>1929</td>\n",
       "      <td>100</td>\n",
       "      <td>Drama,Musical,Romance</td>\n",
       "      <td>5.7</td>\n",
       "      <td>6,890</td>\n",
       "      <td>Vaudeville sisters \"Hank\" (Bessie Love) and Qu...</td>\n",
       "      <td>Musical &amp; Performing Arts, Romance</td>\n",
       "      <td>The Broadway Melody is interesting as an examp...</td>\n",
       "      <td>NR</td>\n",
       "      <td>Harry Beaumont</td>\n",
       "      <td>James Gleason, Norman Houston, Sarah Y. Mason</td>\n",
       "      <td>Anita Page, Bessie Love, Charles King, Jed Pro...</td>\n",
       "      <td>1929-02-01</td>\n",
       "      <td>2017-02-25</td>\n",
       "      <td>MGM Home Entertainment</td>\n",
       "      <td>Rotten</td>\n",
       "      <td>33.0</td>\n",
       "      <td>24.0</td>\n",
       "      <td>Spilled</td>\n",
       "      <td>21.0</td>\n",
       "      <td>1813.0</td>\n",
       "      <td>7.0</td>\n",
       "      <td>8.0</td>\n",
       "      <td>16.0</td>\n",
       "      <td>de063f3f-2d35-4e1c-8636-6eb4c16bd236</td>\n",
       "    </tr>\n",
       "    <tr>\n",
       "      <th>4</th>\n",
       "      <td>4</td>\n",
       "      <td>Alibi</td>\n",
       "      <td>1928/29</td>\n",
       "      <td>Feature Productions</td>\n",
       "      <td>Nominee</td>\n",
       "      <td>1929</td>\n",
       "      <td>91</td>\n",
       "      <td>Action,Crime,Romance</td>\n",
       "      <td>5.8</td>\n",
       "      <td>765</td>\n",
       "      <td>NaN</td>\n",
       "      <td>NaN</td>\n",
       "      <td>NaN</td>\n",
       "      <td>NaN</td>\n",
       "      <td>NaN</td>\n",
       "      <td>NaN</td>\n",
       "      <td>NaN</td>\n",
       "      <td>NaN</td>\n",
       "      <td>NaN</td>\n",
       "      <td>NaN</td>\n",
       "      <td>NaN</td>\n",
       "      <td>NaN</td>\n",
       "      <td>NaN</td>\n",
       "      <td>NaN</td>\n",
       "      <td>NaN</td>\n",
       "      <td>NaN</td>\n",
       "      <td>NaN</td>\n",
       "      <td>NaN</td>\n",
       "      <td>NaN</td>\n",
       "      <td>609887c2-877c-43a4-b88c-e40e31096a98</td>\n",
       "    </tr>\n",
       "    <tr>\n",
       "      <th>5</th>\n",
       "      <td>5</td>\n",
       "      <td>Hollywood Revue</td>\n",
       "      <td>1928/29</td>\n",
       "      <td>Metro-Goldwyn-Mayer</td>\n",
       "      <td>Nominee</td>\n",
       "      <td>1929</td>\n",
       "      <td>130</td>\n",
       "      <td>Comedy,Music</td>\n",
       "      <td>5.7</td>\n",
       "      <td>2,004</td>\n",
       "      <td>NaN</td>\n",
       "      <td>NaN</td>\n",
       "      <td>NaN</td>\n",
       "      <td>NaN</td>\n",
       "      <td>NaN</td>\n",
       "      <td>NaN</td>\n",
       "      <td>NaN</td>\n",
       "      <td>NaN</td>\n",
       "      <td>NaN</td>\n",
       "      <td>NaN</td>\n",
       "      <td>NaN</td>\n",
       "      <td>NaN</td>\n",
       "      <td>NaN</td>\n",
       "      <td>NaN</td>\n",
       "      <td>NaN</td>\n",
       "      <td>NaN</td>\n",
       "      <td>NaN</td>\n",
       "      <td>NaN</td>\n",
       "      <td>NaN</td>\n",
       "      <td>689f22d5-a700-4ce1-b9be-65652f32c186</td>\n",
       "    </tr>\n",
       "    <tr>\n",
       "      <th>6</th>\n",
       "      <td>6</td>\n",
       "      <td>In Old Arizona</td>\n",
       "      <td>1928/29</td>\n",
       "      <td>Fox</td>\n",
       "      <td>Nominee</td>\n",
       "      <td>1928</td>\n",
       "      <td>95</td>\n",
       "      <td>Western</td>\n",
       "      <td>5.6</td>\n",
       "      <td>1,019</td>\n",
       "      <td>In this early Western, notorious bandit the Ci...</td>\n",
       "      <td>Action &amp; Adventure, Classics, Western, Romance</td>\n",
       "      <td>NaN</td>\n",
       "      <td>NR</td>\n",
       "      <td>Irving Cummings, Raoul Walsh</td>\n",
       "      <td>Tom Barry</td>\n",
       "      <td>Warner Baxter, Edmund Lowe, Dorothy Burgess, J...</td>\n",
       "      <td>1928-12-25</td>\n",
       "      <td>2017-03-12</td>\n",
       "      <td>20th Century Fox Film Corporation</td>\n",
       "      <td>Rotten</td>\n",
       "      <td>56.0</td>\n",
       "      <td>9.0</td>\n",
       "      <td>Spilled</td>\n",
       "      <td>38.0</td>\n",
       "      <td>356.0</td>\n",
       "      <td>2.0</td>\n",
       "      <td>5.0</td>\n",
       "      <td>4.0</td>\n",
       "      <td>a0644f19-a136-44c2-ab5d-50978ef19608</td>\n",
       "    </tr>\n",
       "    <tr>\n",
       "      <th>7</th>\n",
       "      <td>7</td>\n",
       "      <td>The Patriot</td>\n",
       "      <td>1928/29</td>\n",
       "      <td>Paramount Famous Lasky</td>\n",
       "      <td>Nominee</td>\n",
       "      <td>1928</td>\n",
       "      <td>113</td>\n",
       "      <td>Drama,History,Thriller</td>\n",
       "      <td>7.4</td>\n",
       "      <td>18</td>\n",
       "      <td>NaN</td>\n",
       "      <td>NaN</td>\n",
       "      <td>NaN</td>\n",
       "      <td>NaN</td>\n",
       "      <td>NaN</td>\n",
       "      <td>NaN</td>\n",
       "      <td>NaN</td>\n",
       "      <td>NaN</td>\n",
       "      <td>NaN</td>\n",
       "      <td>NaN</td>\n",
       "      <td>NaN</td>\n",
       "      <td>NaN</td>\n",
       "      <td>NaN</td>\n",
       "      <td>NaN</td>\n",
       "      <td>NaN</td>\n",
       "      <td>NaN</td>\n",
       "      <td>NaN</td>\n",
       "      <td>NaN</td>\n",
       "      <td>NaN</td>\n",
       "      <td>5d4ef7bd-2f81-47f3-9305-2c8fe140d4e4</td>\n",
       "    </tr>\n",
       "    <tr>\n",
       "      <th>8</th>\n",
       "      <td>8</td>\n",
       "      <td>All Quiet on the Western Front</td>\n",
       "      <td>1929/30</td>\n",
       "      <td>Universal</td>\n",
       "      <td>Winner</td>\n",
       "      <td>1930</td>\n",
       "      <td>152</td>\n",
       "      <td>Drama,War</td>\n",
       "      <td>8.1</td>\n",
       "      <td>59,214</td>\n",
       "      <td>NaN</td>\n",
       "      <td>NaN</td>\n",
       "      <td>NaN</td>\n",
       "      <td>NaN</td>\n",
       "      <td>NaN</td>\n",
       "      <td>NaN</td>\n",
       "      <td>NaN</td>\n",
       "      <td>NaN</td>\n",
       "      <td>NaN</td>\n",
       "      <td>NaN</td>\n",
       "      <td>NaN</td>\n",
       "      <td>NaN</td>\n",
       "      <td>NaN</td>\n",
       "      <td>NaN</td>\n",
       "      <td>NaN</td>\n",
       "      <td>NaN</td>\n",
       "      <td>NaN</td>\n",
       "      <td>NaN</td>\n",
       "      <td>NaN</td>\n",
       "      <td>281742f9-3b4e-480d-b704-c8c15de6b721</td>\n",
       "    </tr>\n",
       "    <tr>\n",
       "      <th>9</th>\n",
       "      <td>9</td>\n",
       "      <td>The Big House</td>\n",
       "      <td>1929/30</td>\n",
       "      <td>Cosmopolitan</td>\n",
       "      <td>Nominee</td>\n",
       "      <td>1930</td>\n",
       "      <td>87</td>\n",
       "      <td>Crime,Drama,Thriller</td>\n",
       "      <td>7.1</td>\n",
       "      <td>2,079</td>\n",
       "      <td>After being convicted of manslaughter, drunk d...</td>\n",
       "      <td>Classics, Drama</td>\n",
       "      <td>NaN</td>\n",
       "      <td>NR</td>\n",
       "      <td>George W. Hill</td>\n",
       "      <td>Frances Marion, Martin Flavin, Joseph Farnham,...</td>\n",
       "      <td>Wallace Beery, Robert Montgomery, Chester Morr...</td>\n",
       "      <td>1930-05-14</td>\n",
       "      <td>2012-04-16</td>\n",
       "      <td>Warner Bros.</td>\n",
       "      <td>Fresh</td>\n",
       "      <td>75.0</td>\n",
       "      <td>8.0</td>\n",
       "      <td>Upright</td>\n",
       "      <td>69.0</td>\n",
       "      <td>323.0</td>\n",
       "      <td>0.0</td>\n",
       "      <td>6.0</td>\n",
       "      <td>2.0</td>\n",
       "      <td>297aa285-29d7-4a22-b833-c5632ab3e562</td>\n",
       "    </tr>\n",
       "  </tbody>\n",
       "</table>\n",
       "</div>"
      ],
      "text/plain": [
       "   Unnamed: 0                            Film Oscar Year  \\\n",
       "0           0                           Wings    1927/28   \n",
       "1           1                      7th Heaven    1927/28   \n",
       "2           2                      The Racket    1927/28   \n",
       "3           3             The Broadway Melody    1928/29   \n",
       "4           4                           Alibi    1928/29   \n",
       "5           5                 Hollywood Revue    1928/29   \n",
       "6           6                  In Old Arizona    1928/29   \n",
       "7           7                     The Patriot    1928/29   \n",
       "8           8  All Quiet on the Western Front    1929/30   \n",
       "9           9                   The Big House    1929/30   \n",
       "\n",
       "  Film Studio/Producer(s)    Award  Year of Release  Movie Time  \\\n",
       "0    Famous Players-Lasky   Winner             1927         144   \n",
       "1                     Fox  Nominee             1927         110   \n",
       "2       The Caddo Company  Nominee             1928          84   \n",
       "3     Metro-Goldwyn-Mayer   Winner             1929         100   \n",
       "4     Feature Productions  Nominee             1929          91   \n",
       "5     Metro-Goldwyn-Mayer  Nominee             1929         130   \n",
       "6                     Fox  Nominee             1928          95   \n",
       "7  Paramount Famous Lasky  Nominee             1928         113   \n",
       "8               Universal   Winner             1930         152   \n",
       "9            Cosmopolitan  Nominee             1930          87   \n",
       "\n",
       "              Movie Genre  IMDB Rating IMDB Votes  \\\n",
       "0       Drama,Romance,War          7.5     12,221   \n",
       "1           Drama,Romance          7.7      3,439   \n",
       "2   Crime,Drama,Film-Noir          6.7      1,257   \n",
       "3   Drama,Musical,Romance          5.7      6,890   \n",
       "4    Action,Crime,Romance          5.8        765   \n",
       "5            Comedy,Music          5.7      2,004   \n",
       "6                 Western          5.6      1,019   \n",
       "7  Drama,History,Thriller          7.4         18   \n",
       "8               Drama,War          8.1     59,214   \n",
       "9    Crime,Drama,Thriller          7.1      2,079   \n",
       "\n",
       "                                          Movie Info  \\\n",
       "0  With World War I afoot, David Armstrong (Richa...   \n",
       "1                                                NaN   \n",
       "2                                                NaN   \n",
       "3  Vaudeville sisters \"Hank\" (Bessie Love) and Qu...   \n",
       "4                                                NaN   \n",
       "5                                                NaN   \n",
       "6  In this early Western, notorious bandit the Ci...   \n",
       "7                                                NaN   \n",
       "8                                                NaN   \n",
       "9  After being convicted of manslaughter, drunk d...   \n",
       "\n",
       "                                           Genres  \\\n",
       "0                    Action & Adventure, Classics   \n",
       "1                                             NaN   \n",
       "2                                             NaN   \n",
       "3              Musical & Performing Arts, Romance   \n",
       "4                                             NaN   \n",
       "5                                             NaN   \n",
       "6  Action & Adventure, Classics, Western, Romance   \n",
       "7                                             NaN   \n",
       "8                                             NaN   \n",
       "9                                 Classics, Drama   \n",
       "\n",
       "                                    Critic Consensus Content Rating  \\\n",
       "0  Subsequent war epics may have borrowed heavily...          PG-13   \n",
       "1                                                NaN            NaN   \n",
       "2                                                NaN            NaN   \n",
       "3  The Broadway Melody is interesting as an examp...             NR   \n",
       "4                                                NaN            NaN   \n",
       "5                                                NaN            NaN   \n",
       "6                                                NaN             NR   \n",
       "7                                                NaN            NaN   \n",
       "8                                                NaN            NaN   \n",
       "9                                                NaN             NR   \n",
       "\n",
       "                      Directors  \\\n",
       "0               William Wellman   \n",
       "1                           NaN   \n",
       "2                           NaN   \n",
       "3                Harry Beaumont   \n",
       "4                           NaN   \n",
       "5                           NaN   \n",
       "6  Irving Cummings, Raoul Walsh   \n",
       "7                           NaN   \n",
       "8                           NaN   \n",
       "9                George W. Hill   \n",
       "\n",
       "                                             Authors  \\\n",
       "0                      Hope Loring, Louis D. Lighton   \n",
       "1                                                NaN   \n",
       "2                                                NaN   \n",
       "3      James Gleason, Norman Houston, Sarah Y. Mason   \n",
       "4                                                NaN   \n",
       "5                                                NaN   \n",
       "6                                          Tom Barry   \n",
       "7                                                NaN   \n",
       "8                                                NaN   \n",
       "9  Frances Marion, Martin Flavin, Joseph Farnham,...   \n",
       "\n",
       "                                              Actors Original Release Date  \\\n",
       "0  Clara Bow, Charles 'Buddy' Rogers, Richard Arl...            1927-08-12   \n",
       "1                                                NaN                   NaN   \n",
       "2                                                NaN                   NaN   \n",
       "3  Anita Page, Bessie Love, Charles King, Jed Pro...            1929-02-01   \n",
       "4                                                NaN                   NaN   \n",
       "5                                                NaN                   NaN   \n",
       "6  Warner Baxter, Edmund Lowe, Dorothy Burgess, J...            1928-12-25   \n",
       "7                                                NaN                   NaN   \n",
       "8                                                NaN                   NaN   \n",
       "9  Wallace Beery, Robert Montgomery, Chester Morr...            1930-05-14   \n",
       "\n",
       "  Streaming Release Date                 Production Company  \\\n",
       "0             2017-01-02                            Unknown   \n",
       "1                    NaN                                NaN   \n",
       "2                    NaN                                NaN   \n",
       "3             2017-02-25             MGM Home Entertainment   \n",
       "4                    NaN                                NaN   \n",
       "5                    NaN                                NaN   \n",
       "6             2017-03-12  20th Century Fox Film Corporation   \n",
       "7                    NaN                                NaN   \n",
       "8                    NaN                                NaN   \n",
       "9             2012-04-16                       Warner Bros.   \n",
       "\n",
       "  Tomatometer Status  Tomatometer Rating  Tomatometer Count Audience Status  \\\n",
       "0    Certified-Fresh                93.0               46.0         Upright   \n",
       "1                NaN                 NaN                NaN             NaN   \n",
       "2                NaN                 NaN                NaN             NaN   \n",
       "3             Rotten                33.0               24.0         Spilled   \n",
       "4                NaN                 NaN                NaN             NaN   \n",
       "5                NaN                 NaN                NaN             NaN   \n",
       "6             Rotten                56.0                9.0         Spilled   \n",
       "7                NaN                 NaN                NaN             NaN   \n",
       "8                NaN                 NaN                NaN             NaN   \n",
       "9              Fresh                75.0                8.0         Upright   \n",
       "\n",
       "   Audience Rating  Audience Count  Tomatometer Top Critics Count  \\\n",
       "0             78.0          3530.0                            9.0   \n",
       "1              NaN             NaN                            NaN   \n",
       "2              NaN             NaN                            NaN   \n",
       "3             21.0          1813.0                            7.0   \n",
       "4              NaN             NaN                            NaN   \n",
       "5              NaN             NaN                            NaN   \n",
       "6             38.0           356.0                            2.0   \n",
       "7              NaN             NaN                            NaN   \n",
       "8              NaN             NaN                            NaN   \n",
       "9             69.0           323.0                            0.0   \n",
       "\n",
       "   Tomatometer Fresh Critics Count  Tomatometer Rotten Critics Count  \\\n",
       "0                             43.0                               3.0   \n",
       "1                              NaN                               NaN   \n",
       "2                              NaN                               NaN   \n",
       "3                              8.0                              16.0   \n",
       "4                              NaN                               NaN   \n",
       "5                              NaN                               NaN   \n",
       "6                              5.0                               4.0   \n",
       "7                              NaN                               NaN   \n",
       "8                              NaN                               NaN   \n",
       "9                              6.0                               2.0   \n",
       "\n",
       "                                Film ID  \n",
       "0  2becf7d5-a3de-46ab-ae45-abdd6b588067  \n",
       "1  19ed3295-a878-4fd2-8e60-5cd7b5f93dad  \n",
       "2  3111c2d8-0908-4093-8ff3-99c89f2f2f08  \n",
       "3  de063f3f-2d35-4e1c-8636-6eb4c16bd236  \n",
       "4  609887c2-877c-43a4-b88c-e40e31096a98  \n",
       "5  689f22d5-a700-4ce1-b9be-65652f32c186  \n",
       "6  a0644f19-a136-44c2-ab5d-50978ef19608  \n",
       "7  5d4ef7bd-2f81-47f3-9305-2c8fe140d4e4  \n",
       "8  281742f9-3b4e-480d-b704-c8c15de6b721  \n",
       "9  297aa285-29d7-4a22-b833-c5632ab3e562  "
      ]
     },
     "execution_count": 57,
     "metadata": {},
     "output_type": "execute_result"
    }
   ],
   "source": [
    "data.head(10)"
   ]
  },
  {
   "cell_type": "code",
   "execution_count": 58,
   "metadata": {},
   "outputs": [
    {
     "name": "stdout",
     "output_type": "stream",
     "text": [
      "<class 'pandas.core.frame.DataFrame'>\n",
      "RangeIndex: 571 entries, 0 to 570\n",
      "Data columns (total 30 columns):\n",
      " #   Column                            Non-Null Count  Dtype  \n",
      "---  ------                            --------------  -----  \n",
      " 0   Unnamed: 0                        571 non-null    int64  \n",
      " 1   Film                              571 non-null    object \n",
      " 2   Oscar Year                        571 non-null    object \n",
      " 3   Film Studio/Producer(s)           571 non-null    object \n",
      " 4   Award                             571 non-null    object \n",
      " 5   Year of Release                   571 non-null    int64  \n",
      " 6   Movie Time                        571 non-null    int64  \n",
      " 7   Movie Genre                       571 non-null    object \n",
      " 8   IMDB Rating                       571 non-null    float64\n",
      " 9   IMDB Votes                        571 non-null    object \n",
      " 10  Movie Info                        438 non-null    object \n",
      " 11  Genres                            439 non-null    object \n",
      " 12  Critic Consensus                  339 non-null    object \n",
      " 13  Content Rating                    439 non-null    object \n",
      " 14  Directors                         437 non-null    object \n",
      " 15  Authors                           437 non-null    object \n",
      " 16  Actors                            439 non-null    object \n",
      " 17  Original Release Date             439 non-null    object \n",
      " 18  Streaming Release Date            438 non-null    object \n",
      " 19  Production Company                439 non-null    object \n",
      " 20  Tomatometer Status                439 non-null    object \n",
      " 21  Tomatometer Rating                439 non-null    float64\n",
      " 22  Tomatometer Count                 439 non-null    float64\n",
      " 23  Audience Status                   436 non-null    object \n",
      " 24  Audience Rating                   439 non-null    float64\n",
      " 25  Audience Count                    439 non-null    float64\n",
      " 26  Tomatometer Top Critics Count     439 non-null    float64\n",
      " 27  Tomatometer Fresh Critics Count   439 non-null    float64\n",
      " 28  Tomatometer Rotten Critics Count  439 non-null    float64\n",
      " 29  Film ID                           571 non-null    object \n",
      "dtypes: float64(8), int64(3), object(19)\n",
      "memory usage: 134.0+ KB\n"
     ]
    }
   ],
   "source": [
    "data.info()"
   ]
  },
  {
   "cell_type": "markdown",
   "metadata": {},
   "source": [
    "Смотрим на то, какие значения пропущены"
   ]
  },
  {
   "cell_type": "code",
   "execution_count": 59,
   "metadata": {},
   "outputs": [
    {
     "data": {
      "text/plain": [
       "Critic Consensus                    40.630473\n",
       "Audience Status                     23.642732\n",
       "Directors                           23.467601\n",
       "Authors                             23.467601\n",
       "Streaming Release Date              23.292469\n",
       "Movie Info                          23.292469\n",
       "Actors                              23.117338\n",
       "Tomatometer Status                  23.117338\n",
       "Production Company                  23.117338\n",
       "Original Release Date               23.117338\n",
       "Genres                              23.117338\n",
       "Content Rating                      23.117338\n",
       "Tomatometer Count                   23.117338\n",
       "Tomatometer Rating                  23.117338\n",
       "Tomatometer Top Critics Count       23.117338\n",
       "Tomatometer Fresh Critics Count     23.117338\n",
       "Audience Rating                     23.117338\n",
       "Audience Count                      23.117338\n",
       "Tomatometer Rotten Critics Count    23.117338\n",
       "Movie Genre                          0.000000\n",
       "Movie Time                           0.000000\n",
       "Year of Release                      0.000000\n",
       "Film                                 0.000000\n",
       "Unnamed: 0                           0.000000\n",
       "IMDB Rating                          0.000000\n",
       "IMDB Votes                           0.000000\n",
       "Oscar Year                           0.000000\n",
       "Film Studio/Producer(s)              0.000000\n",
       "Award                                0.000000\n",
       "Film ID                              0.000000\n",
       "dtype: float64"
      ]
     },
     "execution_count": 59,
     "metadata": {},
     "output_type": "execute_result"
    }
   ],
   "source": [
    "(data.isna().sum()/data.shape[0]*100).sort_values(ascending=False) "
   ]
  },
  {
   "attachments": {},
   "cell_type": "markdown",
   "metadata": {},
   "source": [
    "## Пропущенные значения"
   ]
  },
  {
   "attachments": {},
   "cell_type": "markdown",
   "metadata": {},
   "source": [
    "Убираем дубликаты"
   ]
  },
  {
   "cell_type": "code",
   "execution_count": 60,
   "metadata": {},
   "outputs": [
    {
     "data": {
      "text/plain": [
       "np.int64(0)"
      ]
     },
     "execution_count": 60,
     "metadata": {},
     "output_type": "execute_result"
    }
   ],
   "source": [
    "data.duplicated().sum()"
   ]
  },
  {
   "cell_type": "code",
   "execution_count": 61,
   "metadata": {},
   "outputs": [
    {
     "data": {
      "text/html": [
       "<div>\n",
       "<style scoped>\n",
       "    .dataframe tbody tr th:only-of-type {\n",
       "        vertical-align: middle;\n",
       "    }\n",
       "\n",
       "    .dataframe tbody tr th {\n",
       "        vertical-align: top;\n",
       "    }\n",
       "\n",
       "    .dataframe thead th {\n",
       "        text-align: right;\n",
       "    }\n",
       "</style>\n",
       "<table border=\"1\" class=\"dataframe\">\n",
       "  <thead>\n",
       "    <tr style=\"text-align: right;\">\n",
       "      <th></th>\n",
       "      <th>Unnamed: 0</th>\n",
       "      <th>Year of Release</th>\n",
       "      <th>Movie Time</th>\n",
       "      <th>IMDB Rating</th>\n",
       "      <th>Tomatometer Rating</th>\n",
       "      <th>Tomatometer Count</th>\n",
       "      <th>Audience Rating</th>\n",
       "      <th>Audience Count</th>\n",
       "      <th>Tomatometer Top Critics Count</th>\n",
       "      <th>Tomatometer Fresh Critics Count</th>\n",
       "      <th>Tomatometer Rotten Critics Count</th>\n",
       "    </tr>\n",
       "  </thead>\n",
       "  <tbody>\n",
       "    <tr>\n",
       "      <th>count</th>\n",
       "      <td>571.000000</td>\n",
       "      <td>571.000000</td>\n",
       "      <td>571.000000</td>\n",
       "      <td>571.000000</td>\n",
       "      <td>439.000000</td>\n",
       "      <td>439.000000</td>\n",
       "      <td>439.000000</td>\n",
       "      <td>4.390000e+02</td>\n",
       "      <td>439.000000</td>\n",
       "      <td>439.000000</td>\n",
       "      <td>439.000000</td>\n",
       "    </tr>\n",
       "    <tr>\n",
       "      <th>mean</th>\n",
       "      <td>285.000000</td>\n",
       "      <td>1973.357268</td>\n",
       "      <td>124.894921</td>\n",
       "      <td>7.570403</td>\n",
       "      <td>87.503417</td>\n",
       "      <td>110.697039</td>\n",
       "      <td>82.428246</td>\n",
       "      <td>5.154145e+05</td>\n",
       "      <td>21.861048</td>\n",
       "      <td>98.471526</td>\n",
       "      <td>12.275626</td>\n",
       "    </tr>\n",
       "    <tr>\n",
       "      <th>std</th>\n",
       "      <td>164.977776</td>\n",
       "      <td>29.315738</td>\n",
       "      <td>26.322817</td>\n",
       "      <td>0.559652</td>\n",
       "      <td>11.690622</td>\n",
       "      <td>119.541406</td>\n",
       "      <td>10.927897</td>\n",
       "      <td>3.623107e+06</td>\n",
       "      <td>21.615492</td>\n",
       "      <td>107.798554</td>\n",
       "      <td>19.310232</td>\n",
       "    </tr>\n",
       "    <tr>\n",
       "      <th>min</th>\n",
       "      <td>0.000000</td>\n",
       "      <td>1927.000000</td>\n",
       "      <td>66.000000</td>\n",
       "      <td>5.600000</td>\n",
       "      <td>29.000000</td>\n",
       "      <td>5.000000</td>\n",
       "      <td>21.000000</td>\n",
       "      <td>6.000000e+00</td>\n",
       "      <td>0.000000</td>\n",
       "      <td>3.000000</td>\n",
       "      <td>0.000000</td>\n",
       "    </tr>\n",
       "    <tr>\n",
       "      <th>25%</th>\n",
       "      <td>142.500000</td>\n",
       "      <td>1944.000000</td>\n",
       "      <td>107.000000</td>\n",
       "      <td>7.300000</td>\n",
       "      <td>84.000000</td>\n",
       "      <td>25.000000</td>\n",
       "      <td>78.000000</td>\n",
       "      <td>6.637500e+03</td>\n",
       "      <td>5.000000</td>\n",
       "      <td>21.500000</td>\n",
       "      <td>2.000000</td>\n",
       "    </tr>\n",
       "    <tr>\n",
       "      <th>50%</th>\n",
       "      <td>285.000000</td>\n",
       "      <td>1972.000000</td>\n",
       "      <td>121.000000</td>\n",
       "      <td>7.600000</td>\n",
       "      <td>91.000000</td>\n",
       "      <td>54.000000</td>\n",
       "      <td>85.000000</td>\n",
       "      <td>3.716600e+04</td>\n",
       "      <td>11.000000</td>\n",
       "      <td>49.000000</td>\n",
       "      <td>5.000000</td>\n",
       "    </tr>\n",
       "    <tr>\n",
       "      <th>75%</th>\n",
       "      <td>427.500000</td>\n",
       "      <td>2001.000000</td>\n",
       "      <td>136.500000</td>\n",
       "      <td>7.900000</td>\n",
       "      <td>95.000000</td>\n",
       "      <td>199.000000</td>\n",
       "      <td>90.000000</td>\n",
       "      <td>1.255365e+05</td>\n",
       "      <td>45.000000</td>\n",
       "      <td>163.500000</td>\n",
       "      <td>15.000000</td>\n",
       "    </tr>\n",
       "    <tr>\n",
       "      <th>max</th>\n",
       "      <td>570.000000</td>\n",
       "      <td>2021.000000</td>\n",
       "      <td>238.000000</td>\n",
       "      <td>9.300000</td>\n",
       "      <td>100.000000</td>\n",
       "      <td>574.000000</td>\n",
       "      <td>98.000000</td>\n",
       "      <td>3.579764e+07</td>\n",
       "      <td>69.000000</td>\n",
       "      <td>495.000000</td>\n",
       "      <td>182.000000</td>\n",
       "    </tr>\n",
       "  </tbody>\n",
       "</table>\n",
       "</div>"
      ],
      "text/plain": [
       "       Unnamed: 0  Year of Release  Movie Time  IMDB Rating  \\\n",
       "count  571.000000       571.000000  571.000000   571.000000   \n",
       "mean   285.000000      1973.357268  124.894921     7.570403   \n",
       "std    164.977776        29.315738   26.322817     0.559652   \n",
       "min      0.000000      1927.000000   66.000000     5.600000   \n",
       "25%    142.500000      1944.000000  107.000000     7.300000   \n",
       "50%    285.000000      1972.000000  121.000000     7.600000   \n",
       "75%    427.500000      2001.000000  136.500000     7.900000   \n",
       "max    570.000000      2021.000000  238.000000     9.300000   \n",
       "\n",
       "       Tomatometer Rating  Tomatometer Count  Audience Rating  Audience Count  \\\n",
       "count          439.000000         439.000000       439.000000    4.390000e+02   \n",
       "mean            87.503417         110.697039        82.428246    5.154145e+05   \n",
       "std             11.690622         119.541406        10.927897    3.623107e+06   \n",
       "min             29.000000           5.000000        21.000000    6.000000e+00   \n",
       "25%             84.000000          25.000000        78.000000    6.637500e+03   \n",
       "50%             91.000000          54.000000        85.000000    3.716600e+04   \n",
       "75%             95.000000         199.000000        90.000000    1.255365e+05   \n",
       "max            100.000000         574.000000        98.000000    3.579764e+07   \n",
       "\n",
       "       Tomatometer Top Critics Count  Tomatometer Fresh Critics Count  \\\n",
       "count                     439.000000                       439.000000   \n",
       "mean                       21.861048                        98.471526   \n",
       "std                        21.615492                       107.798554   \n",
       "min                         0.000000                         3.000000   \n",
       "25%                         5.000000                        21.500000   \n",
       "50%                        11.000000                        49.000000   \n",
       "75%                        45.000000                       163.500000   \n",
       "max                        69.000000                       495.000000   \n",
       "\n",
       "       Tomatometer Rotten Critics Count  \n",
       "count                        439.000000  \n",
       "mean                          12.275626  \n",
       "std                           19.310232  \n",
       "min                            0.000000  \n",
       "25%                            2.000000  \n",
       "50%                            5.000000  \n",
       "75%                           15.000000  \n",
       "max                          182.000000  "
      ]
     },
     "execution_count": 61,
     "metadata": {},
     "output_type": "execute_result"
    }
   ],
   "source": [
    "data.describe()"
   ]
  },
  {
   "attachments": {},
   "cell_type": "markdown",
   "metadata": {},
   "source": [
    "Заполню пропущенные значения в столбцах в которых невозможно предположить пропуск \"unknown\""
   ]
  },
  {
   "cell_type": "code",
   "execution_count": 62,
   "metadata": {},
   "outputs": [
    {
     "data": {
      "text/plain": [
       "Unnamed: 0                            0\n",
       "Film                                  0\n",
       "Oscar Year                            0\n",
       "Film Studio/Producer(s)               0\n",
       "Award                                 0\n",
       "Year of Release                       0\n",
       "Movie Time                            0\n",
       "Movie Genre                           0\n",
       "IMDB Rating                           0\n",
       "IMDB Votes                            0\n",
       "Movie Info                            0\n",
       "Genres                                0\n",
       "Critic Consensus                      0\n",
       "Content Rating                        0\n",
       "Directors                           134\n",
       "Authors                             134\n",
       "Actors                                0\n",
       "Original Release Date               132\n",
       "Streaming Release Date              133\n",
       "Production Company                  132\n",
       "Tomatometer Status                  132\n",
       "Tomatometer Rating                  132\n",
       "Tomatometer Count                   132\n",
       "Audience Status                     135\n",
       "Audience Rating                     132\n",
       "Audience Count                      132\n",
       "Tomatometer Top Critics Count       132\n",
       "Tomatometer Fresh Critics Count     132\n",
       "Tomatometer Rotten Critics Count    132\n",
       "Film ID                               0\n",
       "dtype: int64"
      ]
     },
     "execution_count": 62,
     "metadata": {},
     "output_type": "execute_result"
    }
   ],
   "source": [
    "unknown_column=['Movie Info','Genres','Critic Consensus','Actors','Content Rating']\n",
    "for column in unknown_column:\n",
    "    data[column]=data[column].fillna('unknown')\n",
    "data.isna().sum()"
   ]
  },
  {
   "attachments": {},
   "cell_type": "markdown",
   "metadata": {},
   "source": [
    "Переведем столбцы Original Release Date, Streaming Release Date в тип дата"
   ]
  },
  {
   "cell_type": "code",
   "execution_count": 63,
   "metadata": {},
   "outputs": [],
   "source": [
    "data ['Streaming Release Date'] = pd.to_datetime(data['Streaming Release Date'],format = '%Y-%m-%d')\n"
   ]
  },
  {
   "cell_type": "code",
   "execution_count": 64,
   "metadata": {},
   "outputs": [],
   "source": [
    "data ['Original Release Date'] = pd.to_datetime(data['Original Release Date'],format = '%Y-%m-%d')"
   ]
  },
  {
   "cell_type": "markdown",
   "metadata": {},
   "source": [
    "Переведём IMDB Votes в численный формат\n"
   ]
  },
  {
   "cell_type": "code",
   "execution_count": 65,
   "metadata": {},
   "outputs": [
    {
     "data": {
      "text/plain": [
       "0       12221.0\n",
       "1        3439.0\n",
       "2        1257.0\n",
       "3        6890.0\n",
       "4         765.0\n",
       "         ...   \n",
       "566     65380.0\n",
       "567     57976.0\n",
       "568    122269.0\n",
       "569    102807.0\n",
       "570    156283.0\n",
       "Name: IMDB Votes, Length: 571, dtype: float64"
      ]
     },
     "execution_count": 65,
     "metadata": {},
     "output_type": "execute_result"
    }
   ],
   "source": [
    "data['IMDB Votes']=data['IMDB Votes'].str.replace(',','').astype(float)\n",
    "data['IMDB Votes']"
   ]
  },
  {
   "cell_type": "markdown",
   "metadata": {},
   "source": [
    "Original Release Date заполняю началом года из столбца Year of Release Streaming Release Date заполню либо годом релиза, либо, если фильм старше первого появившегося стриминга фильмов- датой появления стриминга\n",
    "\n"
   ]
  },
  {
   "cell_type": "code",
   "execution_count": 66,
   "metadata": {},
   "outputs": [
    {
     "data": {
      "text/plain": [
       "Unnamed: 0                            0\n",
       "Film                                  0\n",
       "Oscar Year                            0\n",
       "Film Studio/Producer(s)               0\n",
       "Award                                 0\n",
       "Year of Release                       0\n",
       "Movie Time                            0\n",
       "Movie Genre                           0\n",
       "IMDB Rating                           0\n",
       "IMDB Votes                            0\n",
       "Movie Info                            0\n",
       "Genres                                0\n",
       "Critic Consensus                      0\n",
       "Content Rating                        0\n",
       "Directors                           134\n",
       "Authors                             134\n",
       "Actors                                0\n",
       "Original Release Date                 0\n",
       "Streaming Release Date                0\n",
       "Production Company                  132\n",
       "Tomatometer Status                  132\n",
       "Tomatometer Rating                  132\n",
       "Tomatometer Count                   132\n",
       "Audience Status                     135\n",
       "Audience Rating                     132\n",
       "Audience Count                      132\n",
       "Tomatometer Top Critics Count       132\n",
       "Tomatometer Fresh Critics Count     132\n",
       "Tomatometer Rotten Critics Count    132\n",
       "Film ID                               0\n",
       "dtype: int64"
      ]
     },
     "execution_count": 66,
     "metadata": {},
     "output_type": "execute_result"
    }
   ],
   "source": [
    "f = lambda x : str(x)+\"-01-01\"\n",
    "data['Original Release Date'] = data['Original Release Date'].fillna(data['Year of Release'].transform(f))\n",
    "g = lambda x: x if (x > pd.Timestamp(date(2007, 6, 1))) else date(2007, 6, 1)\n",
    "data['Streaming Release Date'] = data['Streaming Release Date'].fillna(data['Original Release Date'].transform(g))\n",
    "data.isna().sum()"
   ]
  },
  {
   "attachments": {},
   "cell_type": "markdown",
   "metadata": {},
   "source": [
    "Original Release Date заполняем началом года из столбца Year of Release\n",
    "Streaming Release Date заполняем либо годом релиза, либо, если фильм старше первого появившегося стриминга фильмов (2007.06.01) - датой появления стриминга"
   ]
  },
  {
   "cell_type": "code",
   "execution_count": 67,
   "metadata": {},
   "outputs": [
    {
     "data": {
      "text/plain": [
       "Unnamed: 0                            0\n",
       "Film                                  0\n",
       "Oscar Year                            0\n",
       "Film Studio/Producer(s)               0\n",
       "Award                                 0\n",
       "Year of Release                       0\n",
       "Movie Time                            0\n",
       "Movie Genre                           0\n",
       "IMDB Rating                           0\n",
       "IMDB Votes                            0\n",
       "Movie Info                            0\n",
       "Genres                                0\n",
       "Critic Consensus                      0\n",
       "Content Rating                        0\n",
       "Directors                           134\n",
       "Authors                             134\n",
       "Actors                                0\n",
       "Original Release Date                 0\n",
       "Streaming Release Date                0\n",
       "Production Company                  132\n",
       "Tomatometer Status                  132\n",
       "Tomatometer Rating                  132\n",
       "Tomatometer Count                   132\n",
       "Audience Status                     135\n",
       "Audience Rating                     132\n",
       "Audience Count                      132\n",
       "Tomatometer Top Critics Count       132\n",
       "Tomatometer Fresh Critics Count     132\n",
       "Tomatometer Rotten Critics Count    132\n",
       "Film ID                               0\n",
       "dtype: int64"
      ]
     },
     "execution_count": 67,
     "metadata": {},
     "output_type": "execute_result"
    }
   ],
   "source": [
    "f = lambda x : str(x)+\"-01-01\"\n",
    "data['Original Release Date'] = data['Original Release Date'].fillna(data['Year of Release'].transform(f))\n",
    "g = lambda x: x if (x > pd.Timestamp(date(2007, 6, 1))) else date(2007, 6, 1)\n",
    "data['Streaming Release Date'] = data['Streaming Release Date'].fillna(data['Original Release Date'].transform(g))\n",
    "data.isna().sum()"
   ]
  },
  {
   "attachments": {},
   "cell_type": "markdown",
   "metadata": {},
   "source": [
    "Заполняем некатегориальные признаки по моде других признаков :"
   ]
  },
  {
   "cell_type": "code",
   "execution_count": 68,
   "metadata": {},
   "outputs": [
    {
     "data": {
      "text/plain": [
       "Unnamed: 0                            0\n",
       "Film                                  0\n",
       "Oscar Year                            0\n",
       "Film Studio/Producer(s)               0\n",
       "Award                                 0\n",
       "Year of Release                       0\n",
       "Movie Time                            0\n",
       "Movie Genre                           0\n",
       "IMDB Rating                           0\n",
       "IMDB Votes                            0\n",
       "Movie Info                            0\n",
       "Genres                                0\n",
       "Critic Consensus                      0\n",
       "Content Rating                        0\n",
       "Directors                             0\n",
       "Authors                               0\n",
       "Actors                                0\n",
       "Original Release Date                 0\n",
       "Streaming Release Date                0\n",
       "Production Company                    0\n",
       "Tomatometer Status                    0\n",
       "Tomatometer Rating                  132\n",
       "Tomatometer Count                   132\n",
       "Audience Status                       0\n",
       "Audience Rating                     132\n",
       "Audience Count                      132\n",
       "Tomatometer Top Critics Count       132\n",
       "Tomatometer Fresh Critics Count     132\n",
       "Tomatometer Rotten Critics Count    132\n",
       "Film ID                               0\n",
       "dtype: int64"
      ]
     },
     "execution_count": 68,
     "metadata": {},
     "output_type": "execute_result"
    }
   ],
   "source": [
    "rating = lambda x: x.mode().iat[0] if x.notna().any() else 'NR'\n",
    "content_rating = data.groupby('Directors')['Content Rating'].transform(rating)\n",
    "data['Content Rating'] = data['Content Rating'].fillna(content_rating)\n",
    "\n",
    "\n",
    "f = lambda x: x.mode().iat[0] if x.notna().any() else 'unknown' \n",
    "fill_director = data.groupby('Film Studio/Producer(s)')['Directors'].transform(f)\n",
    "data['Directors'] = data['Directors'].fillna(fill_director)\n",
    "fill_author = data.groupby('Film Studio/Producer(s)')['Authors'].transform(f)\n",
    "data['Authors'] = data['Authors'].fillna(fill_author)\n",
    "fill_company = data.groupby('Directors')['Production Company'].transform(f)\n",
    "data['Production Company'] = data['Production Company'].fillna(fill_company)\n",
    "fill_status = data.groupby('Directors')['Tomatometer Status'].transform(f)\n",
    "data['Tomatometer Status'] = data['Tomatometer Status'].fillna(fill_status)\n",
    "fill_aud = data.groupby('Directors')['Audience Status'].transform(f)\n",
    "data['Audience Status'] = data['Audience Status'].fillna(fill_aud)\n",
    "data.isna().sum()"
   ]
  },
  {
   "attachments": {},
   "cell_type": "markdown",
   "metadata": {},
   "source": [
    "Пропуски в Audience Count и Tomatometer Rating заполняем выбросами"
   ]
  },
  {
   "cell_type": "code",
   "execution_count": 69,
   "metadata": {},
   "outputs": [],
   "source": [
    "data['Audience Count'] = data['Audience Count'].fillna(-1)\n",
    "data['Tomatometer Rating'] = data['Tomatometer Rating'].fillna(-1)"
   ]
  },
  {
   "cell_type": "code",
   "execution_count": 70,
   "metadata": {},
   "outputs": [
    {
     "data": {
      "text/plain": [
       "Unnamed: 0                            0\n",
       "Film                                  0\n",
       "Oscar Year                            0\n",
       "Film Studio/Producer(s)               0\n",
       "Award                                 0\n",
       "Year of Release                       0\n",
       "Movie Time                            0\n",
       "Movie Genre                           0\n",
       "IMDB Rating                           0\n",
       "IMDB Votes                            0\n",
       "Movie Info                            0\n",
       "Genres                                0\n",
       "Critic Consensus                      0\n",
       "Content Rating                        0\n",
       "Directors                             0\n",
       "Authors                               0\n",
       "Actors                                0\n",
       "Original Release Date                 0\n",
       "Streaming Release Date                0\n",
       "Production Company                    0\n",
       "Tomatometer Status                    0\n",
       "Tomatometer Rating                    0\n",
       "Tomatometer Count                   132\n",
       "Audience Status                       0\n",
       "Audience Rating                     132\n",
       "Audience Count                        0\n",
       "Tomatometer Top Critics Count       132\n",
       "Tomatometer Fresh Critics Count     132\n",
       "Tomatometer Rotten Critics Count    132\n",
       "Film ID                               0\n",
       "dtype: int64"
      ]
     },
     "execution_count": 70,
     "metadata": {},
     "output_type": "execute_result"
    }
   ],
   "source": [
    "data.isna().sum()"
   ]
  },
  {
   "attachments": {},
   "cell_type": "markdown",
   "metadata": {},
   "source": [
    "Посмотрим на корреляцию значений"
   ]
  },
  {
   "cell_type": "code",
   "execution_count": 71,
   "metadata": {},
   "outputs": [
    {
     "data": {
      "text/html": [
       "<div>\n",
       "<style scoped>\n",
       "    .dataframe tbody tr th:only-of-type {\n",
       "        vertical-align: middle;\n",
       "    }\n",
       "\n",
       "    .dataframe tbody tr th {\n",
       "        vertical-align: top;\n",
       "    }\n",
       "\n",
       "    .dataframe thead th {\n",
       "        text-align: right;\n",
       "    }\n",
       "</style>\n",
       "<table border=\"1\" class=\"dataframe\">\n",
       "  <thead>\n",
       "    <tr style=\"text-align: right;\">\n",
       "      <th></th>\n",
       "      <th>IMDB Rating</th>\n",
       "      <th>Tomatometer Count</th>\n",
       "      <th>Tomatometer Rating</th>\n",
       "      <th>Audience Rating</th>\n",
       "      <th>Audience Count</th>\n",
       "      <th>Movie Time</th>\n",
       "      <th>Year of Release</th>\n",
       "      <th>Tomatometer Rotten Critics Count</th>\n",
       "      <th>Tomatometer Fresh Critics Count</th>\n",
       "      <th>Tomatometer Top Critics Count</th>\n",
       "    </tr>\n",
       "  </thead>\n",
       "  <tbody>\n",
       "    <tr>\n",
       "      <th>IMDB Rating</th>\n",
       "      <td>1.000000</td>\n",
       "      <td>0.268721</td>\n",
       "      <td>0.300352</td>\n",
       "      <td>0.859044</td>\n",
       "      <td>0.150687</td>\n",
       "      <td>0.292357</td>\n",
       "      <td>0.329910</td>\n",
       "      <td>0.101679</td>\n",
       "      <td>0.279789</td>\n",
       "      <td>0.294503</td>\n",
       "    </tr>\n",
       "    <tr>\n",
       "      <th>Tomatometer Count</th>\n",
       "      <td>0.268721</td>\n",
       "      <td>1.000000</td>\n",
       "      <td>0.111996</td>\n",
       "      <td>0.157585</td>\n",
       "      <td>0.067923</td>\n",
       "      <td>0.091782</td>\n",
       "      <td>0.805810</td>\n",
       "      <td>0.662408</td>\n",
       "      <td>0.990934</td>\n",
       "      <td>0.943635</td>\n",
       "    </tr>\n",
       "    <tr>\n",
       "      <th>Tomatometer Rating</th>\n",
       "      <td>0.300352</td>\n",
       "      <td>0.111996</td>\n",
       "      <td>1.000000</td>\n",
       "      <td>0.506349</td>\n",
       "      <td>0.063904</td>\n",
       "      <td>0.080586</td>\n",
       "      <td>0.159165</td>\n",
       "      <td>-0.337102</td>\n",
       "      <td>0.184758</td>\n",
       "      <td>0.114217</td>\n",
       "    </tr>\n",
       "    <tr>\n",
       "      <th>Audience Rating</th>\n",
       "      <td>0.859044</td>\n",
       "      <td>0.157585</td>\n",
       "      <td>0.506349</td>\n",
       "      <td>1.000000</td>\n",
       "      <td>-0.014034</td>\n",
       "      <td>0.145336</td>\n",
       "      <td>0.238831</td>\n",
       "      <td>-0.002000</td>\n",
       "      <td>0.175147</td>\n",
       "      <td>0.192354</td>\n",
       "    </tr>\n",
       "    <tr>\n",
       "      <th>Audience Count</th>\n",
       "      <td>0.150687</td>\n",
       "      <td>0.067923</td>\n",
       "      <td>0.063904</td>\n",
       "      <td>-0.014034</td>\n",
       "      <td>1.000000</td>\n",
       "      <td>0.171932</td>\n",
       "      <td>0.089266</td>\n",
       "      <td>0.065931</td>\n",
       "      <td>0.063454</td>\n",
       "      <td>0.121112</td>\n",
       "    </tr>\n",
       "    <tr>\n",
       "      <th>Movie Time</th>\n",
       "      <td>0.292357</td>\n",
       "      <td>0.091782</td>\n",
       "      <td>0.080586</td>\n",
       "      <td>0.145336</td>\n",
       "      <td>0.171932</td>\n",
       "      <td>1.000000</td>\n",
       "      <td>0.242018</td>\n",
       "      <td>0.166130</td>\n",
       "      <td>0.071951</td>\n",
       "      <td>0.114933</td>\n",
       "    </tr>\n",
       "    <tr>\n",
       "      <th>Year of Release</th>\n",
       "      <td>0.329910</td>\n",
       "      <td>0.805810</td>\n",
       "      <td>0.159165</td>\n",
       "      <td>0.238831</td>\n",
       "      <td>0.089266</td>\n",
       "      <td>0.242018</td>\n",
       "      <td>1.000000</td>\n",
       "      <td>0.567570</td>\n",
       "      <td>0.792311</td>\n",
       "      <td>0.847781</td>\n",
       "    </tr>\n",
       "    <tr>\n",
       "      <th>Tomatometer Rotten Critics Count</th>\n",
       "      <td>0.101679</td>\n",
       "      <td>0.662408</td>\n",
       "      <td>-0.337102</td>\n",
       "      <td>-0.002000</td>\n",
       "      <td>0.065931</td>\n",
       "      <td>0.166130</td>\n",
       "      <td>0.567570</td>\n",
       "      <td>1.000000</td>\n",
       "      <td>0.555764</td>\n",
       "      <td>0.608254</td>\n",
       "    </tr>\n",
       "    <tr>\n",
       "      <th>Tomatometer Fresh Critics Count</th>\n",
       "      <td>0.279789</td>\n",
       "      <td>0.990934</td>\n",
       "      <td>0.184758</td>\n",
       "      <td>0.175147</td>\n",
       "      <td>0.063454</td>\n",
       "      <td>0.071951</td>\n",
       "      <td>0.792311</td>\n",
       "      <td>0.555764</td>\n",
       "      <td>1.000000</td>\n",
       "      <td>0.937991</td>\n",
       "    </tr>\n",
       "    <tr>\n",
       "      <th>Tomatometer Top Critics Count</th>\n",
       "      <td>0.294503</td>\n",
       "      <td>0.943635</td>\n",
       "      <td>0.114217</td>\n",
       "      <td>0.192354</td>\n",
       "      <td>0.121112</td>\n",
       "      <td>0.114933</td>\n",
       "      <td>0.847781</td>\n",
       "      <td>0.608254</td>\n",
       "      <td>0.937991</td>\n",
       "      <td>1.000000</td>\n",
       "    </tr>\n",
       "  </tbody>\n",
       "</table>\n",
       "</div>"
      ],
      "text/plain": [
       "                                  IMDB Rating  Tomatometer Count  \\\n",
       "IMDB Rating                          1.000000           0.268721   \n",
       "Tomatometer Count                    0.268721           1.000000   \n",
       "Tomatometer Rating                   0.300352           0.111996   \n",
       "Audience Rating                      0.859044           0.157585   \n",
       "Audience Count                       0.150687           0.067923   \n",
       "Movie Time                           0.292357           0.091782   \n",
       "Year of Release                      0.329910           0.805810   \n",
       "Tomatometer Rotten Critics Count     0.101679           0.662408   \n",
       "Tomatometer Fresh Critics Count      0.279789           0.990934   \n",
       "Tomatometer Top Critics Count        0.294503           0.943635   \n",
       "\n",
       "                                  Tomatometer Rating  Audience Rating  \\\n",
       "IMDB Rating                                 0.300352         0.859044   \n",
       "Tomatometer Count                           0.111996         0.157585   \n",
       "Tomatometer Rating                          1.000000         0.506349   \n",
       "Audience Rating                             0.506349         1.000000   \n",
       "Audience Count                              0.063904        -0.014034   \n",
       "Movie Time                                  0.080586         0.145336   \n",
       "Year of Release                             0.159165         0.238831   \n",
       "Tomatometer Rotten Critics Count           -0.337102        -0.002000   \n",
       "Tomatometer Fresh Critics Count             0.184758         0.175147   \n",
       "Tomatometer Top Critics Count               0.114217         0.192354   \n",
       "\n",
       "                                  Audience Count  Movie Time  Year of Release  \\\n",
       "IMDB Rating                             0.150687    0.292357         0.329910   \n",
       "Tomatometer Count                       0.067923    0.091782         0.805810   \n",
       "Tomatometer Rating                      0.063904    0.080586         0.159165   \n",
       "Audience Rating                        -0.014034    0.145336         0.238831   \n",
       "Audience Count                          1.000000    0.171932         0.089266   \n",
       "Movie Time                              0.171932    1.000000         0.242018   \n",
       "Year of Release                         0.089266    0.242018         1.000000   \n",
       "Tomatometer Rotten Critics Count        0.065931    0.166130         0.567570   \n",
       "Tomatometer Fresh Critics Count         0.063454    0.071951         0.792311   \n",
       "Tomatometer Top Critics Count           0.121112    0.114933         0.847781   \n",
       "\n",
       "                                  Tomatometer Rotten Critics Count  \\\n",
       "IMDB Rating                                               0.101679   \n",
       "Tomatometer Count                                         0.662408   \n",
       "Tomatometer Rating                                       -0.337102   \n",
       "Audience Rating                                          -0.002000   \n",
       "Audience Count                                            0.065931   \n",
       "Movie Time                                                0.166130   \n",
       "Year of Release                                           0.567570   \n",
       "Tomatometer Rotten Critics Count                          1.000000   \n",
       "Tomatometer Fresh Critics Count                           0.555764   \n",
       "Tomatometer Top Critics Count                             0.608254   \n",
       "\n",
       "                                  Tomatometer Fresh Critics Count  \\\n",
       "IMDB Rating                                              0.279789   \n",
       "Tomatometer Count                                        0.990934   \n",
       "Tomatometer Rating                                       0.184758   \n",
       "Audience Rating                                          0.175147   \n",
       "Audience Count                                           0.063454   \n",
       "Movie Time                                               0.071951   \n",
       "Year of Release                                          0.792311   \n",
       "Tomatometer Rotten Critics Count                         0.555764   \n",
       "Tomatometer Fresh Critics Count                          1.000000   \n",
       "Tomatometer Top Critics Count                            0.937991   \n",
       "\n",
       "                                  Tomatometer Top Critics Count  \n",
       "IMDB Rating                                            0.294503  \n",
       "Tomatometer Count                                      0.943635  \n",
       "Tomatometer Rating                                     0.114217  \n",
       "Audience Rating                                        0.192354  \n",
       "Audience Count                                         0.121112  \n",
       "Movie Time                                             0.114933  \n",
       "Year of Release                                        0.847781  \n",
       "Tomatometer Rotten Critics Count                       0.608254  \n",
       "Tomatometer Fresh Critics Count                        0.937991  \n",
       "Tomatometer Top Critics Count                          1.000000  "
      ]
     },
     "execution_count": 71,
     "metadata": {},
     "output_type": "execute_result"
    }
   ],
   "source": [
    "data[['IMDB Rating','Tomatometer Count','Tomatometer Rating','Audience Rating','Audience Count','Movie Time','Year of Release','Tomatometer Rotten Critics Count', 'Tomatometer Fresh Critics Count', 'Tomatometer Top Critics Count']].corr()"
   ]
  },
  {
   "attachments": {},
   "cell_type": "markdown",
   "metadata": {},
   "source": [
    "Есть сильная корреляция между Tomatometer Count и Year of Release, а также между Tomatometer Count и Tomatometer Rotten Critics Count, Tomatometer Fresh Critics Count,\tTomatometer Top Critics Count"
   ]
  },
  {
   "attachments": {},
   "cell_type": "markdown",
   "metadata": {},
   "source": [
    "Заполняем Tomatometer Count"
   ]
  },
  {
   "cell_type": "code",
   "execution_count": 72,
   "metadata": {},
   "outputs": [
    {
     "data": {
      "text/html": [
       "<div>\n",
       "<style scoped>\n",
       "    .dataframe tbody tr th:only-of-type {\n",
       "        vertical-align: middle;\n",
       "    }\n",
       "\n",
       "    .dataframe tbody tr th {\n",
       "        vertical-align: top;\n",
       "    }\n",
       "\n",
       "    .dataframe thead th {\n",
       "        text-align: right;\n",
       "    }\n",
       "</style>\n",
       "<table border=\"1\" class=\"dataframe\">\n",
       "  <thead>\n",
       "    <tr style=\"text-align: right;\">\n",
       "      <th></th>\n",
       "      <th>Year of Release</th>\n",
       "      <th>Tomatometer Count</th>\n",
       "    </tr>\n",
       "  </thead>\n",
       "  <tbody>\n",
       "    <tr>\n",
       "      <th>count</th>\n",
       "      <td>571.000000</td>\n",
       "      <td>439.000000</td>\n",
       "    </tr>\n",
       "    <tr>\n",
       "      <th>mean</th>\n",
       "      <td>1973.357268</td>\n",
       "      <td>110.697039</td>\n",
       "    </tr>\n",
       "    <tr>\n",
       "      <th>min</th>\n",
       "      <td>1927.000000</td>\n",
       "      <td>5.000000</td>\n",
       "    </tr>\n",
       "    <tr>\n",
       "      <th>25%</th>\n",
       "      <td>1944.000000</td>\n",
       "      <td>25.000000</td>\n",
       "    </tr>\n",
       "    <tr>\n",
       "      <th>50%</th>\n",
       "      <td>1972.000000</td>\n",
       "      <td>54.000000</td>\n",
       "    </tr>\n",
       "    <tr>\n",
       "      <th>75%</th>\n",
       "      <td>2001.000000</td>\n",
       "      <td>199.000000</td>\n",
       "    </tr>\n",
       "    <tr>\n",
       "      <th>max</th>\n",
       "      <td>2021.000000</td>\n",
       "      <td>574.000000</td>\n",
       "    </tr>\n",
       "    <tr>\n",
       "      <th>std</th>\n",
       "      <td>29.315738</td>\n",
       "      <td>119.541406</td>\n",
       "    </tr>\n",
       "  </tbody>\n",
       "</table>\n",
       "</div>"
      ],
      "text/plain": [
       "       Year of Release  Tomatometer Count\n",
       "count       571.000000         439.000000\n",
       "mean       1973.357268         110.697039\n",
       "min        1927.000000           5.000000\n",
       "25%        1944.000000          25.000000\n",
       "50%        1972.000000          54.000000\n",
       "75%        2001.000000         199.000000\n",
       "max        2021.000000         574.000000\n",
       "std          29.315738         119.541406"
      ]
     },
     "execution_count": 72,
     "metadata": {},
     "output_type": "execute_result"
    }
   ],
   "source": [
    "data.describe()[['Year of Release','Tomatometer Count']]"
   ]
  },
  {
   "cell_type": "code",
   "execution_count": 73,
   "metadata": {},
   "outputs": [],
   "source": [
    "tomatometr_count = lambda x: round(x*(110.7/1973))\n",
    "data['Tomatometer Count'] = data['Tomatometer Count'].fillna(data['Year of Release'].transform(tomatometr_count))"
   ]
  },
  {
   "attachments": {},
   "cell_type": "markdown",
   "metadata": {},
   "source": [
    "Теперь могу заполнять Tomatometer Rotten Critics Count, Tomatometer Fresh Critics Count,\tTomatometer Top Critics Count"
   ]
  },
  {
   "cell_type": "code",
   "execution_count": 74,
   "metadata": {},
   "outputs": [
    {
     "data": {
      "text/html": [
       "<div>\n",
       "<style scoped>\n",
       "    .dataframe tbody tr th:only-of-type {\n",
       "        vertical-align: middle;\n",
       "    }\n",
       "\n",
       "    .dataframe tbody tr th {\n",
       "        vertical-align: top;\n",
       "    }\n",
       "\n",
       "    .dataframe thead th {\n",
       "        text-align: right;\n",
       "    }\n",
       "</style>\n",
       "<table border=\"1\" class=\"dataframe\">\n",
       "  <thead>\n",
       "    <tr style=\"text-align: right;\">\n",
       "      <th></th>\n",
       "      <th>Tomatometer Count</th>\n",
       "      <th>Tomatometer Rotten Critics Count</th>\n",
       "      <th>Tomatometer Top Critics Count</th>\n",
       "      <th>Tomatometer Fresh Critics Count</th>\n",
       "    </tr>\n",
       "  </thead>\n",
       "  <tbody>\n",
       "    <tr>\n",
       "      <th>count</th>\n",
       "      <td>571.000000</td>\n",
       "      <td>439.000000</td>\n",
       "      <td>439.000000</td>\n",
       "      <td>439.000000</td>\n",
       "    </tr>\n",
       "    <tr>\n",
       "      <th>mean</th>\n",
       "      <td>110.588441</td>\n",
       "      <td>12.275626</td>\n",
       "      <td>21.861048</td>\n",
       "      <td>98.471526</td>\n",
       "    </tr>\n",
       "    <tr>\n",
       "      <th>min</th>\n",
       "      <td>5.000000</td>\n",
       "      <td>0.000000</td>\n",
       "      <td>0.000000</td>\n",
       "      <td>3.000000</td>\n",
       "    </tr>\n",
       "    <tr>\n",
       "      <th>25%</th>\n",
       "      <td>33.000000</td>\n",
       "      <td>2.000000</td>\n",
       "      <td>5.000000</td>\n",
       "      <td>21.500000</td>\n",
       "    </tr>\n",
       "    <tr>\n",
       "      <th>50%</th>\n",
       "      <td>82.000000</td>\n",
       "      <td>5.000000</td>\n",
       "      <td>11.000000</td>\n",
       "      <td>49.000000</td>\n",
       "    </tr>\n",
       "    <tr>\n",
       "      <th>75%</th>\n",
       "      <td>113.000000</td>\n",
       "      <td>15.000000</td>\n",
       "      <td>45.000000</td>\n",
       "      <td>163.500000</td>\n",
       "    </tr>\n",
       "    <tr>\n",
       "      <th>max</th>\n",
       "      <td>574.000000</td>\n",
       "      <td>182.000000</td>\n",
       "      <td>69.000000</td>\n",
       "      <td>495.000000</td>\n",
       "    </tr>\n",
       "    <tr>\n",
       "      <th>std</th>\n",
       "      <td>104.793232</td>\n",
       "      <td>19.310232</td>\n",
       "      <td>21.615492</td>\n",
       "      <td>107.798554</td>\n",
       "    </tr>\n",
       "  </tbody>\n",
       "</table>\n",
       "</div>"
      ],
      "text/plain": [
       "       Tomatometer Count  Tomatometer Rotten Critics Count  \\\n",
       "count         571.000000                        439.000000   \n",
       "mean          110.588441                         12.275626   \n",
       "min             5.000000                          0.000000   \n",
       "25%            33.000000                          2.000000   \n",
       "50%            82.000000                          5.000000   \n",
       "75%           113.000000                         15.000000   \n",
       "max           574.000000                        182.000000   \n",
       "std           104.793232                         19.310232   \n",
       "\n",
       "       Tomatometer Top Critics Count  Tomatometer Fresh Critics Count  \n",
       "count                     439.000000                       439.000000  \n",
       "mean                       21.861048                        98.471526  \n",
       "min                         0.000000                         3.000000  \n",
       "25%                         5.000000                        21.500000  \n",
       "50%                        11.000000                        49.000000  \n",
       "75%                        45.000000                       163.500000  \n",
       "max                        69.000000                       495.000000  \n",
       "std                        21.615492                       107.798554  "
      ]
     },
     "execution_count": 74,
     "metadata": {},
     "output_type": "execute_result"
    }
   ],
   "source": [
    "data.describe()[['Tomatometer Count','Tomatometer Rotten Critics Count','Tomatometer Top Critics Count','Tomatometer Fresh Critics Count']]"
   ]
  },
  {
   "cell_type": "code",
   "execution_count": 75,
   "metadata": {},
   "outputs": [],
   "source": [
    "tomatometr_rotten = lambda x: round(x*(12.3/110.6))\n",
    "data['Tomatometer Rotten Critics Count'] = data['Tomatometer Rotten Critics Count'].fillna(data['Tomatometer Count'].transform(tomatometr_rotten))\n",
    "\n",
    "tomatometr_top = lambda x: round(x*(21.9/110.6))\n",
    "data['Tomatometer Top Critics Count'] = data['Tomatometer Top Critics Count'].fillna(data['Tomatometer Count'].transform(tomatometr_top))\n",
    "\n",
    "tomatometr_fresh = lambda x: round(x*(98.5/110.6))\n",
    "data['Tomatometer Fresh Critics Count'] = data['Tomatometer Fresh Critics Count'].fillna(data['Tomatometer Count'].transform(tomatometr_fresh))"
   ]
  },
  {
   "attachments": {},
   "cell_type": "markdown",
   "metadata": {},
   "source": [
    "Сильная корреляция между IMDB Rating и Audience Rating, заполняем Audience Rating"
   ]
  },
  {
   "cell_type": "code",
   "execution_count": 76,
   "metadata": {},
   "outputs": [
    {
     "data": {
      "text/html": [
       "<div>\n",
       "<style scoped>\n",
       "    .dataframe tbody tr th:only-of-type {\n",
       "        vertical-align: middle;\n",
       "    }\n",
       "\n",
       "    .dataframe tbody tr th {\n",
       "        vertical-align: top;\n",
       "    }\n",
       "\n",
       "    .dataframe thead th {\n",
       "        text-align: right;\n",
       "    }\n",
       "</style>\n",
       "<table border=\"1\" class=\"dataframe\">\n",
       "  <thead>\n",
       "    <tr style=\"text-align: right;\">\n",
       "      <th></th>\n",
       "      <th>IMDB Rating</th>\n",
       "      <th>Audience Rating</th>\n",
       "    </tr>\n",
       "  </thead>\n",
       "  <tbody>\n",
       "    <tr>\n",
       "      <th>count</th>\n",
       "      <td>571.000000</td>\n",
       "      <td>439.000000</td>\n",
       "    </tr>\n",
       "    <tr>\n",
       "      <th>mean</th>\n",
       "      <td>7.570403</td>\n",
       "      <td>82.428246</td>\n",
       "    </tr>\n",
       "    <tr>\n",
       "      <th>min</th>\n",
       "      <td>5.600000</td>\n",
       "      <td>21.000000</td>\n",
       "    </tr>\n",
       "    <tr>\n",
       "      <th>25%</th>\n",
       "      <td>7.300000</td>\n",
       "      <td>78.000000</td>\n",
       "    </tr>\n",
       "    <tr>\n",
       "      <th>50%</th>\n",
       "      <td>7.600000</td>\n",
       "      <td>85.000000</td>\n",
       "    </tr>\n",
       "    <tr>\n",
       "      <th>75%</th>\n",
       "      <td>7.900000</td>\n",
       "      <td>90.000000</td>\n",
       "    </tr>\n",
       "    <tr>\n",
       "      <th>max</th>\n",
       "      <td>9.300000</td>\n",
       "      <td>98.000000</td>\n",
       "    </tr>\n",
       "    <tr>\n",
       "      <th>std</th>\n",
       "      <td>0.559652</td>\n",
       "      <td>10.927897</td>\n",
       "    </tr>\n",
       "  </tbody>\n",
       "</table>\n",
       "</div>"
      ],
      "text/plain": [
       "       IMDB Rating  Audience Rating\n",
       "count   571.000000       439.000000\n",
       "mean      7.570403        82.428246\n",
       "min       5.600000        21.000000\n",
       "25%       7.300000        78.000000\n",
       "50%       7.600000        85.000000\n",
       "75%       7.900000        90.000000\n",
       "max       9.300000        98.000000\n",
       "std       0.559652        10.927897"
      ]
     },
     "execution_count": 76,
     "metadata": {},
     "output_type": "execute_result"
    }
   ],
   "source": [
    "data.describe()[['IMDB Rating','Audience Rating']]"
   ]
  },
  {
   "cell_type": "code",
   "execution_count": 77,
   "metadata": {},
   "outputs": [],
   "source": [
    "tomatometr_rating = lambda x: round(x*(82.4/7.6))\n",
    "data['Audience Rating'] = data['Audience Rating'].fillna(data['IMDB Rating'].transform(tomatometr_rating))"
   ]
  },
  {
   "cell_type": "code",
   "execution_count": 78,
   "metadata": {},
   "outputs": [
    {
     "data": {
      "text/plain": [
       "Unnamed: 0                          0\n",
       "Film                                0\n",
       "Oscar Year                          0\n",
       "Film Studio/Producer(s)             0\n",
       "Award                               0\n",
       "Year of Release                     0\n",
       "Movie Time                          0\n",
       "Movie Genre                         0\n",
       "IMDB Rating                         0\n",
       "IMDB Votes                          0\n",
       "Movie Info                          0\n",
       "Genres                              0\n",
       "Critic Consensus                    0\n",
       "Content Rating                      0\n",
       "Directors                           0\n",
       "Authors                             0\n",
       "Actors                              0\n",
       "Original Release Date               0\n",
       "Streaming Release Date              0\n",
       "Production Company                  0\n",
       "Tomatometer Status                  0\n",
       "Tomatometer Rating                  0\n",
       "Tomatometer Count                   0\n",
       "Audience Status                     0\n",
       "Audience Rating                     0\n",
       "Audience Count                      0\n",
       "Tomatometer Top Critics Count       0\n",
       "Tomatometer Fresh Critics Count     0\n",
       "Tomatometer Rotten Critics Count    0\n",
       "Film ID                             0\n",
       "dtype: int64"
      ]
     },
     "execution_count": 78,
     "metadata": {},
     "output_type": "execute_result"
    }
   ],
   "source": [
    "data.isna().sum()"
   ]
  },
  {
   "attachments": {},
   "cell_type": "markdown",
   "metadata": {},
   "source": [
    "## Коррекция данных"
   ]
  },
  {
   "attachments": {},
   "cell_type": "markdown",
   "metadata": {},
   "source": [
    "теперь когда данные без пропусков, можно поменять типы данных"
   ]
  },
  {
   "cell_type": "code",
   "execution_count": 79,
   "metadata": {},
   "outputs": [
    {
     "name": "stdout",
     "output_type": "stream",
     "text": [
      "<class 'pandas.core.frame.DataFrame'>\n",
      "RangeIndex: 571 entries, 0 to 570\n",
      "Data columns (total 30 columns):\n",
      " #   Column                            Non-Null Count  Dtype         \n",
      "---  ------                            --------------  -----         \n",
      " 0   Unnamed: 0                        571 non-null    int64         \n",
      " 1   Film                              571 non-null    object        \n",
      " 2   Oscar Year                        571 non-null    object        \n",
      " 3   Film Studio/Producer(s)           571 non-null    object        \n",
      " 4   Award                             571 non-null    object        \n",
      " 5   Year of Release                   571 non-null    int64         \n",
      " 6   Movie Time                        571 non-null    int64         \n",
      " 7   Movie Genre                       571 non-null    object        \n",
      " 8   IMDB Rating                       571 non-null    float64       \n",
      " 9   IMDB Votes                        571 non-null    float64       \n",
      " 10  Movie Info                        571 non-null    object        \n",
      " 11  Genres                            571 non-null    object        \n",
      " 12  Critic Consensus                  571 non-null    object        \n",
      " 13  Content Rating                    571 non-null    object        \n",
      " 14  Directors                         571 non-null    object        \n",
      " 15  Authors                           571 non-null    object        \n",
      " 16  Actors                            571 non-null    object        \n",
      " 17  Original Release Date             571 non-null    datetime64[ns]\n",
      " 18  Streaming Release Date            571 non-null    datetime64[ns]\n",
      " 19  Production Company                571 non-null    object        \n",
      " 20  Tomatometer Status                571 non-null    object        \n",
      " 21  Tomatometer Rating                571 non-null    float64       \n",
      " 22  Tomatometer Count                 571 non-null    float64       \n",
      " 23  Audience Status                   571 non-null    object        \n",
      " 24  Audience Rating                   571 non-null    float64       \n",
      " 25  Audience Count                    571 non-null    float64       \n",
      " 26  Tomatometer Top Critics Count     571 non-null    float64       \n",
      " 27  Tomatometer Fresh Critics Count   571 non-null    float64       \n",
      " 28  Tomatometer Rotten Critics Count  571 non-null    float64       \n",
      " 29  Film ID                           571 non-null    object        \n",
      "dtypes: datetime64[ns](2), float64(9), int64(3), object(16)\n",
      "memory usage: 134.0+ KB\n"
     ]
    }
   ],
   "source": [
    "data.info()"
   ]
  },
  {
   "cell_type": "code",
   "execution_count": 80,
   "metadata": {},
   "outputs": [],
   "source": [
    "data['Movie Time'] = data['Movie Time'] .astype(int)\n",
    "data['Tomatometer Rating'] = data['Tomatometer Rating'].astype(int)\n",
    "data['Tomatometer Count'] = data['Tomatometer Count'].astype(int)\n",
    "data['Audience Rating'] = data['Audience Rating'].astype(int)\n",
    "data['Audience Count'] = data['Audience Rating'].astype(int)\n",
    "data['Tomatometer Top Critics Count'] = data['Tomatometer Top Critics Count'].astype(int)\n",
    "data['Tomatometer Fresh Critics Count'] = data['Tomatometer Fresh Critics Count'].astype(int)\n",
    "data['Tomatometer Rotten Critics Count'] = data['Tomatometer Rotten Critics Count'].astype(int)"
   ]
  },
  {
   "cell_type": "markdown",
   "metadata": {},
   "source": [
    "Проверяем"
   ]
  },
  {
   "cell_type": "code",
   "execution_count": 81,
   "metadata": {},
   "outputs": [
    {
     "name": "stdout",
     "output_type": "stream",
     "text": [
      "<class 'pandas.core.frame.DataFrame'>\n",
      "RangeIndex: 571 entries, 0 to 570\n",
      "Data columns (total 30 columns):\n",
      " #   Column                            Non-Null Count  Dtype         \n",
      "---  ------                            --------------  -----         \n",
      " 0   Unnamed: 0                        571 non-null    int64         \n",
      " 1   Film                              571 non-null    object        \n",
      " 2   Oscar Year                        571 non-null    object        \n",
      " 3   Film Studio/Producer(s)           571 non-null    object        \n",
      " 4   Award                             571 non-null    object        \n",
      " 5   Year of Release                   571 non-null    int64         \n",
      " 6   Movie Time                        571 non-null    int64         \n",
      " 7   Movie Genre                       571 non-null    object        \n",
      " 8   IMDB Rating                       571 non-null    float64       \n",
      " 9   IMDB Votes                        571 non-null    float64       \n",
      " 10  Movie Info                        571 non-null    object        \n",
      " 11  Genres                            571 non-null    object        \n",
      " 12  Critic Consensus                  571 non-null    object        \n",
      " 13  Content Rating                    571 non-null    object        \n",
      " 14  Directors                         571 non-null    object        \n",
      " 15  Authors                           571 non-null    object        \n",
      " 16  Actors                            571 non-null    object        \n",
      " 17  Original Release Date             571 non-null    datetime64[ns]\n",
      " 18  Streaming Release Date            571 non-null    datetime64[ns]\n",
      " 19  Production Company                571 non-null    object        \n",
      " 20  Tomatometer Status                571 non-null    object        \n",
      " 21  Tomatometer Rating                571 non-null    int64         \n",
      " 22  Tomatometer Count                 571 non-null    int64         \n",
      " 23  Audience Status                   571 non-null    object        \n",
      " 24  Audience Rating                   571 non-null    int64         \n",
      " 25  Audience Count                    571 non-null    int64         \n",
      " 26  Tomatometer Top Critics Count     571 non-null    int64         \n",
      " 27  Tomatometer Fresh Critics Count   571 non-null    int64         \n",
      " 28  Tomatometer Rotten Critics Count  571 non-null    int64         \n",
      " 29  Film ID                           571 non-null    object        \n",
      "dtypes: datetime64[ns](2), float64(2), int64(10), object(16)\n",
      "memory usage: 134.0+ KB\n"
     ]
    }
   ],
   "source": [
    "data.info()"
   ]
  },
  {
   "attachments": {},
   "cell_type": "markdown",
   "metadata": {},
   "source": [
    "## EDA"
   ]
  },
  {
   "attachments": {},
   "cell_type": "markdown",
   "metadata": {},
   "source": [
    "рассмотрим некоторые столбцы в виде гистограмм"
   ]
  },
  {
   "cell_type": "code",
   "execution_count": 27,
   "metadata": {},
   "outputs": [
    {
     "data": {
      "image/png": "[encoded data removed]",
      "text/plain": [
       "<Figure size 640x480 with 1 Axes>"
      ]
     },
     "metadata": {},
     "output_type": "display_data"
    },
    {
     "data": {
      "image/png": "[encoded data removed]",
      "text/plain": [
       "<Figure size 640x480 with 1 Axes>"
      ]
     },
     "metadata": {},
     "output_type": "display_data"
    },
    {
     "data": {
      "image/png": "[encoded data removed]",
      "text/plain": [
       "<Figure size 640x480 with 1 Axes>"
      ]
     },
     "metadata": {},
     "output_type": "display_data"
    },
    {
     "data": {
      "image/png": "[encoded data removed]",
      "text/plain": [
       "<Figure size 640x480 with 1 Axes>"
      ]
     },
     "metadata": {},
     "output_type": "display_data"
    },
    {
     "data": {
      "image/png": "[encoded data removed]",
      "text/plain": [
       "<Figure size 640x480 with 1 Axes>"
      ]
     },
     "metadata": {},
     "output_type": "display_data"
    },
    {
     "data": {
      "image/png": "[encoded data removed]",
      "text/plain": [
       "<Figure size 640x480 with 1 Axes>"
      ]
     },
     "metadata": {},
     "output_type": "display_data"
    }
   ],
   "source": [
    "columns = [\"IMDB Rating\",\"IMDB Votes\", \"Audience Rating\", \"Year of Release\", \"Tomatometer Rating\",\"Tomatometer Count\"]\n",
    "for column in columns:\n",
    "    data.hist(column)"
   ]
  },
  {
   "attachments": {},
   "cell_type": "markdown",
   "metadata": {},
   "source": [
    "По данным видно что в столбцах Tomatometr Rating, Tomatomtr Count и IMDB Votes присутвуют выбросы, а график Audince Rating смешен в право"
   ]
  },
  {
   "attachments": {},
   "cell_type": "markdown",
   "metadata": {},
   "source": [
    "Обработаем выбросы"
   ]
  },
  {
   "cell_type": "code",
   "execution_count": 82,
   "metadata": {},
   "outputs": [
    {
     "data": {
      "text/html": [
       "<div>\n",
       "<style scoped>\n",
       "    .dataframe tbody tr th:only-of-type {\n",
       "        vertical-align: middle;\n",
       "    }\n",
       "\n",
       "    .dataframe tbody tr th {\n",
       "        vertical-align: top;\n",
       "    }\n",
       "\n",
       "    .dataframe thead th {\n",
       "        text-align: right;\n",
       "    }\n",
       "</style>\n",
       "<table border=\"1\" class=\"dataframe\">\n",
       "  <thead>\n",
       "    <tr style=\"text-align: right;\">\n",
       "      <th></th>\n",
       "      <th>Tomatometer Count</th>\n",
       "      <th>Tomatometer Rating</th>\n",
       "      <th>IMDB Votes</th>\n",
       "    </tr>\n",
       "  </thead>\n",
       "  <tbody>\n",
       "    <tr>\n",
       "      <th>0</th>\n",
       "      <td>46</td>\n",
       "      <td>93</td>\n",
       "      <td>12221.0</td>\n",
       "    </tr>\n",
       "    <tr>\n",
       "      <th>1</th>\n",
       "      <td>108</td>\n",
       "      <td>-1</td>\n",
       "      <td>3439.0</td>\n",
       "    </tr>\n",
       "    <tr>\n",
       "      <th>2</th>\n",
       "      <td>108</td>\n",
       "      <td>-1</td>\n",
       "      <td>1257.0</td>\n",
       "    </tr>\n",
       "    <tr>\n",
       "      <th>3</th>\n",
       "      <td>24</td>\n",
       "      <td>33</td>\n",
       "      <td>6890.0</td>\n",
       "    </tr>\n",
       "    <tr>\n",
       "      <th>4</th>\n",
       "      <td>108</td>\n",
       "      <td>-1</td>\n",
       "      <td>765.0</td>\n",
       "    </tr>\n",
       "    <tr>\n",
       "      <th>...</th>\n",
       "      <td>...</td>\n",
       "      <td>...</td>\n",
       "      <td>...</td>\n",
       "    </tr>\n",
       "    <tr>\n",
       "      <th>566</th>\n",
       "      <td>113</td>\n",
       "      <td>-1</td>\n",
       "      <td>65380.0</td>\n",
       "    </tr>\n",
       "    <tr>\n",
       "      <th>567</th>\n",
       "      <td>113</td>\n",
       "      <td>-1</td>\n",
       "      <td>57976.0</td>\n",
       "    </tr>\n",
       "    <tr>\n",
       "      <th>568</th>\n",
       "      <td>113</td>\n",
       "      <td>-1</td>\n",
       "      <td>122269.0</td>\n",
       "    </tr>\n",
       "    <tr>\n",
       "      <th>569</th>\n",
       "      <td>113</td>\n",
       "      <td>-1</td>\n",
       "      <td>102807.0</td>\n",
       "    </tr>\n",
       "    <tr>\n",
       "      <th>570</th>\n",
       "      <td>113</td>\n",
       "      <td>-1</td>\n",
       "      <td>156283.0</td>\n",
       "    </tr>\n",
       "  </tbody>\n",
       "</table>\n",
       "<p>571 rows × 3 columns</p>\n",
       "</div>"
      ],
      "text/plain": [
       "     Tomatometer Count  Tomatometer Rating  IMDB Votes\n",
       "0                   46                  93     12221.0\n",
       "1                  108                  -1      3439.0\n",
       "2                  108                  -1      1257.0\n",
       "3                   24                  33      6890.0\n",
       "4                  108                  -1       765.0\n",
       "..                 ...                 ...         ...\n",
       "566                113                  -1     65380.0\n",
       "567                113                  -1     57976.0\n",
       "568                113                  -1    122269.0\n",
       "569                113                  -1    102807.0\n",
       "570                113                  -1    156283.0\n",
       "\n",
       "[571 rows x 3 columns]"
      ]
     },
     "execution_count": 82,
     "metadata": {},
     "output_type": "execute_result"
    }
   ],
   "source": [
    "outlier = data[[\"Tomatometer Count\", \"Tomatometer Rating\", \"IMDB Votes\"]]\n",
    "outlier"
   ]
  },
  {
   "attachments": {},
   "cell_type": "markdown",
   "metadata": {},
   "source": [
    "Вычислим межквартильный размах и создадим новый датафрейм без выбросов"
   ]
  },
  {
   "cell_type": "code",
   "execution_count": 83,
   "metadata": {},
   "outputs": [
    {
     "data": {
      "text/plain": [
       "Tomatometer Count       33.0\n",
       "Tomatometer Rating      57.5\n",
       "IMDB Votes            9660.5\n",
       "Name: 0.25, dtype: float64"
      ]
     },
     "execution_count": 83,
     "metadata": {},
     "output_type": "execute_result"
    }
   ],
   "source": [
    "Q1 = outlier.quantile(0.25)\n",
    "Q1"
   ]
  },
  {
   "cell_type": "code",
   "execution_count": 84,
   "metadata": {},
   "outputs": [
    {
     "data": {
      "text/plain": [
       "Tomatometer Count        113.0\n",
       "Tomatometer Rating        94.0\n",
       "IMDB Votes            259429.0\n",
       "Name: 0.75, dtype: float64"
      ]
     },
     "execution_count": 84,
     "metadata": {},
     "output_type": "execute_result"
    }
   ],
   "source": [
    "Q3 = outlier.quantile(0.75)\n",
    "Q3"
   ]
  },
  {
   "cell_type": "code",
   "execution_count": 85,
   "metadata": {},
   "outputs": [
    {
     "data": {
      "text/html": [
       "<div>\n",
       "<style scoped>\n",
       "    .dataframe tbody tr th:only-of-type {\n",
       "        vertical-align: middle;\n",
       "    }\n",
       "\n",
       "    .dataframe tbody tr th {\n",
       "        vertical-align: top;\n",
       "    }\n",
       "\n",
       "    .dataframe thead th {\n",
       "        text-align: right;\n",
       "    }\n",
       "</style>\n",
       "<table border=\"1\" class=\"dataframe\">\n",
       "  <thead>\n",
       "    <tr style=\"text-align: right;\">\n",
       "      <th></th>\n",
       "      <th>Tomatometer Count</th>\n",
       "      <th>Tomatometer Rating</th>\n",
       "      <th>IMDB Votes</th>\n",
       "    </tr>\n",
       "  </thead>\n",
       "  <tbody>\n",
       "    <tr>\n",
       "      <th>0</th>\n",
       "      <td>46</td>\n",
       "      <td>93</td>\n",
       "      <td>12221.0</td>\n",
       "    </tr>\n",
       "    <tr>\n",
       "      <th>3</th>\n",
       "      <td>24</td>\n",
       "      <td>33</td>\n",
       "      <td>6890.0</td>\n",
       "    </tr>\n",
       "    <tr>\n",
       "      <th>6</th>\n",
       "      <td>9</td>\n",
       "      <td>56</td>\n",
       "      <td>1019.0</td>\n",
       "    </tr>\n",
       "    <tr>\n",
       "      <th>9</th>\n",
       "      <td>8</td>\n",
       "      <td>75</td>\n",
       "      <td>2079.0</td>\n",
       "    </tr>\n",
       "    <tr>\n",
       "      <th>13</th>\n",
       "      <td>24</td>\n",
       "      <td>50</td>\n",
       "      <td>5851.0</td>\n",
       "    </tr>\n",
       "    <tr>\n",
       "      <th>...</th>\n",
       "      <td>...</td>\n",
       "      <td>...</td>\n",
       "      <td>...</td>\n",
       "    </tr>\n",
       "    <tr>\n",
       "      <th>489</th>\n",
       "      <td>227</td>\n",
       "      <td>93</td>\n",
       "      <td>312181.0</td>\n",
       "    </tr>\n",
       "    <tr>\n",
       "      <th>490</th>\n",
       "      <td>224</td>\n",
       "      <td>93</td>\n",
       "      <td>401524.0</td>\n",
       "    </tr>\n",
       "    <tr>\n",
       "      <th>495</th>\n",
       "      <td>223</td>\n",
       "      <td>93</td>\n",
       "      <td>96258.0</td>\n",
       "    </tr>\n",
       "    <tr>\n",
       "      <th>496</th>\n",
       "      <td>204</td>\n",
       "      <td>87</td>\n",
       "      <td>82051.0</td>\n",
       "    </tr>\n",
       "    <tr>\n",
       "      <th>510</th>\n",
       "      <td>198</td>\n",
       "      <td>90</td>\n",
       "      <td>96771.0</td>\n",
       "    </tr>\n",
       "  </tbody>\n",
       "</table>\n",
       "<p>334 rows × 3 columns</p>\n",
       "</div>"
      ],
      "text/plain": [
       "     Tomatometer Count  Tomatometer Rating  IMDB Votes\n",
       "0                   46                  93     12221.0\n",
       "3                   24                  33      6890.0\n",
       "6                    9                  56      1019.0\n",
       "9                    8                  75      2079.0\n",
       "13                  24                  50      5851.0\n",
       "..                 ...                 ...         ...\n",
       "489                227                  93    312181.0\n",
       "490                224                  93    401524.0\n",
       "495                223                  93     96258.0\n",
       "496                204                  87     82051.0\n",
       "510                198                  90     96771.0\n",
       "\n",
       "[334 rows x 3 columns]"
      ]
     },
     "execution_count": 85,
     "metadata": {},
     "output_type": "execute_result"
    }
   ],
   "source": [
    "IQR = Q3 - Q1\n",
    "\n",
    "\n",
    "data_filtered = outlier[~((outlier < (Q1 - 1.5 * IQR)) | (outlier > (Q3 + 1.5 * IQR))).any(axis=1)]\n",
    "data_filtered"
   ]
  },
  {
   "cell_type": "code",
   "execution_count": 86,
   "metadata": {},
   "outputs": [
    {
     "data": {
      "text/html": [
       "<div>\n",
       "<style scoped>\n",
       "    .dataframe tbody tr th:only-of-type {\n",
       "        vertical-align: middle;\n",
       "    }\n",
       "\n",
       "    .dataframe tbody tr th {\n",
       "        vertical-align: top;\n",
       "    }\n",
       "\n",
       "    .dataframe thead th {\n",
       "        text-align: right;\n",
       "    }\n",
       "</style>\n",
       "<table border=\"1\" class=\"dataframe\">\n",
       "  <thead>\n",
       "    <tr style=\"text-align: right;\">\n",
       "      <th></th>\n",
       "      <th>Unnamed: 0</th>\n",
       "      <th>Film</th>\n",
       "      <th>Oscar Year</th>\n",
       "      <th>Film Studio/Producer(s)</th>\n",
       "      <th>Award</th>\n",
       "      <th>Year of Release</th>\n",
       "      <th>Movie Time</th>\n",
       "      <th>Movie Genre</th>\n",
       "      <th>IMDB Rating</th>\n",
       "      <th>IMDB Votes</th>\n",
       "      <th>Movie Info</th>\n",
       "      <th>Genres</th>\n",
       "      <th>Critic Consensus</th>\n",
       "      <th>Content Rating</th>\n",
       "      <th>Directors</th>\n",
       "      <th>Authors</th>\n",
       "      <th>Actors</th>\n",
       "      <th>Original Release Date</th>\n",
       "      <th>Streaming Release Date</th>\n",
       "      <th>Production Company</th>\n",
       "      <th>Tomatometer Status</th>\n",
       "      <th>Tomatometer Rating</th>\n",
       "      <th>Tomatometer Count</th>\n",
       "      <th>Audience Status</th>\n",
       "      <th>Audience Rating</th>\n",
       "      <th>Audience Count</th>\n",
       "      <th>Tomatometer Top Critics Count</th>\n",
       "      <th>Tomatometer Fresh Critics Count</th>\n",
       "      <th>Tomatometer Rotten Critics Count</th>\n",
       "      <th>Film ID</th>\n",
       "    </tr>\n",
       "  </thead>\n",
       "  <tbody>\n",
       "    <tr>\n",
       "      <th>0</th>\n",
       "      <td>0</td>\n",
       "      <td>Wings</td>\n",
       "      <td>1927/28</td>\n",
       "      <td>Famous Players-Lasky</td>\n",
       "      <td>Winner</td>\n",
       "      <td>1927</td>\n",
       "      <td>144</td>\n",
       "      <td>Drama,Romance,War</td>\n",
       "      <td>7.5</td>\n",
       "      <td>12221.0</td>\n",
       "      <td>With World War I afoot, David Armstrong (Richa...</td>\n",
       "      <td>Action &amp; Adventure, Classics</td>\n",
       "      <td>Subsequent war epics may have borrowed heavily...</td>\n",
       "      <td>PG-13</td>\n",
       "      <td>William Wellman</td>\n",
       "      <td>Hope Loring, Louis D. Lighton</td>\n",
       "      <td>Clara Bow, Charles 'Buddy' Rogers, Richard Arl...</td>\n",
       "      <td>1927-08-12</td>\n",
       "      <td>2017-01-02</td>\n",
       "      <td>Unknown</td>\n",
       "      <td>Certified-Fresh</td>\n",
       "      <td>93</td>\n",
       "      <td>46</td>\n",
       "      <td>Upright</td>\n",
       "      <td>78</td>\n",
       "      <td>78</td>\n",
       "      <td>9</td>\n",
       "      <td>43</td>\n",
       "      <td>3</td>\n",
       "      <td>2becf7d5-a3de-46ab-ae45-abdd6b588067</td>\n",
       "    </tr>\n",
       "    <tr>\n",
       "      <th>3</th>\n",
       "      <td>3</td>\n",
       "      <td>The Broadway Melody</td>\n",
       "      <td>1928/29</td>\n",
       "      <td>Metro-Goldwyn-Mayer</td>\n",
       "      <td>Winner</td>\n",
       "      <td>1929</td>\n",
       "      <td>100</td>\n",
       "      <td>Drama,Musical,Romance</td>\n",
       "      <td>5.7</td>\n",
       "      <td>6890.0</td>\n",
       "      <td>Vaudeville sisters \"Hank\" (Bessie Love) and Qu...</td>\n",
       "      <td>Musical &amp; Performing Arts, Romance</td>\n",
       "      <td>The Broadway Melody is interesting as an examp...</td>\n",
       "      <td>NR</td>\n",
       "      <td>Harry Beaumont</td>\n",
       "      <td>James Gleason, Norman Houston, Sarah Y. Mason</td>\n",
       "      <td>Anita Page, Bessie Love, Charles King, Jed Pro...</td>\n",
       "      <td>1929-02-01</td>\n",
       "      <td>2017-02-25</td>\n",
       "      <td>MGM Home Entertainment</td>\n",
       "      <td>Rotten</td>\n",
       "      <td>33</td>\n",
       "      <td>24</td>\n",
       "      <td>Spilled</td>\n",
       "      <td>21</td>\n",
       "      <td>21</td>\n",
       "      <td>7</td>\n",
       "      <td>8</td>\n",
       "      <td>16</td>\n",
       "      <td>de063f3f-2d35-4e1c-8636-6eb4c16bd236</td>\n",
       "    </tr>\n",
       "    <tr>\n",
       "      <th>6</th>\n",
       "      <td>6</td>\n",
       "      <td>In Old Arizona</td>\n",
       "      <td>1928/29</td>\n",
       "      <td>Fox</td>\n",
       "      <td>Nominee</td>\n",
       "      <td>1928</td>\n",
       "      <td>95</td>\n",
       "      <td>Western</td>\n",
       "      <td>5.6</td>\n",
       "      <td>1019.0</td>\n",
       "      <td>In this early Western, notorious bandit the Ci...</td>\n",
       "      <td>Action &amp; Adventure, Classics, Western, Romance</td>\n",
       "      <td>unknown</td>\n",
       "      <td>NR</td>\n",
       "      <td>Irving Cummings, Raoul Walsh</td>\n",
       "      <td>Tom Barry</td>\n",
       "      <td>Warner Baxter, Edmund Lowe, Dorothy Burgess, J...</td>\n",
       "      <td>1928-12-25</td>\n",
       "      <td>2017-03-12</td>\n",
       "      <td>20th Century Fox Film Corporation</td>\n",
       "      <td>Rotten</td>\n",
       "      <td>56</td>\n",
       "      <td>9</td>\n",
       "      <td>Spilled</td>\n",
       "      <td>38</td>\n",
       "      <td>38</td>\n",
       "      <td>2</td>\n",
       "      <td>5</td>\n",
       "      <td>4</td>\n",
       "      <td>a0644f19-a136-44c2-ab5d-50978ef19608</td>\n",
       "    </tr>\n",
       "    <tr>\n",
       "      <th>9</th>\n",
       "      <td>9</td>\n",
       "      <td>The Big House</td>\n",
       "      <td>1929/30</td>\n",
       "      <td>Cosmopolitan</td>\n",
       "      <td>Nominee</td>\n",
       "      <td>1930</td>\n",
       "      <td>87</td>\n",
       "      <td>Crime,Drama,Thriller</td>\n",
       "      <td>7.1</td>\n",
       "      <td>2079.0</td>\n",
       "      <td>After being convicted of manslaughter, drunk d...</td>\n",
       "      <td>Classics, Drama</td>\n",
       "      <td>unknown</td>\n",
       "      <td>NR</td>\n",
       "      <td>George W. Hill</td>\n",
       "      <td>Frances Marion, Martin Flavin, Joseph Farnham,...</td>\n",
       "      <td>Wallace Beery, Robert Montgomery, Chester Morr...</td>\n",
       "      <td>1930-05-14</td>\n",
       "      <td>2012-04-16</td>\n",
       "      <td>Warner Bros.</td>\n",
       "      <td>Fresh</td>\n",
       "      <td>75</td>\n",
       "      <td>8</td>\n",
       "      <td>Upright</td>\n",
       "      <td>69</td>\n",
       "      <td>69</td>\n",
       "      <td>0</td>\n",
       "      <td>6</td>\n",
       "      <td>2</td>\n",
       "      <td>297aa285-29d7-4a22-b833-c5632ab3e562</td>\n",
       "    </tr>\n",
       "    <tr>\n",
       "      <th>13</th>\n",
       "      <td>13</td>\n",
       "      <td>Cimarron</td>\n",
       "      <td>1930/31</td>\n",
       "      <td>RKO Radio</td>\n",
       "      <td>Winner</td>\n",
       "      <td>1931</td>\n",
       "      <td>123</td>\n",
       "      <td>Drama,Western</td>\n",
       "      <td>5.9</td>\n",
       "      <td>5851.0</td>\n",
       "      <td>In 1889, adventurous lawyer and newspaper edit...</td>\n",
       "      <td>Classics, Drama, Western</td>\n",
       "      <td>Cimarron is supported by a strong performance ...</td>\n",
       "      <td>NR</td>\n",
       "      <td>Wesley Ruggles</td>\n",
       "      <td>Howard Estabrook, Edna Ferber</td>\n",
       "      <td>Richard Dix, Irene Dunne, Estelle Taylor, Nanc...</td>\n",
       "      <td>1931-01-26</td>\n",
       "      <td>2017-01-08</td>\n",
       "      <td>MGM Home Entertainment</td>\n",
       "      <td>Rotten</td>\n",
       "      <td>50</td>\n",
       "      <td>24</td>\n",
       "      <td>Spilled</td>\n",
       "      <td>25</td>\n",
       "      <td>25</td>\n",
       "      <td>6</td>\n",
       "      <td>12</td>\n",
       "      <td>12</td>\n",
       "      <td>db2683c0-128e-4b5c-858f-d9f18c2fb9b9</td>\n",
       "    </tr>\n",
       "  </tbody>\n",
       "</table>\n",
       "</div>"
      ],
      "text/plain": [
       "    Unnamed: 0                 Film Oscar Year Film Studio/Producer(s)  \\\n",
       "0            0                Wings    1927/28    Famous Players-Lasky   \n",
       "3            3  The Broadway Melody    1928/29     Metro-Goldwyn-Mayer   \n",
       "6            6       In Old Arizona    1928/29                     Fox   \n",
       "9            9        The Big House    1929/30            Cosmopolitan   \n",
       "13          13             Cimarron    1930/31               RKO Radio   \n",
       "\n",
       "      Award  Year of Release  Movie Time            Movie Genre  IMDB Rating  \\\n",
       "0    Winner             1927         144      Drama,Romance,War          7.5   \n",
       "3    Winner             1929         100  Drama,Musical,Romance          5.7   \n",
       "6   Nominee             1928          95                Western          5.6   \n",
       "9   Nominee             1930          87   Crime,Drama,Thriller          7.1   \n",
       "13   Winner             1931         123          Drama,Western          5.9   \n",
       "\n",
       "    IMDB Votes                                         Movie Info  \\\n",
       "0      12221.0  With World War I afoot, David Armstrong (Richa...   \n",
       "3       6890.0  Vaudeville sisters \"Hank\" (Bessie Love) and Qu...   \n",
       "6       1019.0  In this early Western, notorious bandit the Ci...   \n",
       "9       2079.0  After being convicted of manslaughter, drunk d...   \n",
       "13      5851.0  In 1889, adventurous lawyer and newspaper edit...   \n",
       "\n",
       "                                            Genres  \\\n",
       "0                     Action & Adventure, Classics   \n",
       "3               Musical & Performing Arts, Romance   \n",
       "6   Action & Adventure, Classics, Western, Romance   \n",
       "9                                  Classics, Drama   \n",
       "13                        Classics, Drama, Western   \n",
       "\n",
       "                                     Critic Consensus Content Rating  \\\n",
       "0   Subsequent war epics may have borrowed heavily...          PG-13   \n",
       "3   The Broadway Melody is interesting as an examp...             NR   \n",
       "6                                             unknown             NR   \n",
       "9                                             unknown             NR   \n",
       "13  Cimarron is supported by a strong performance ...             NR   \n",
       "\n",
       "                       Directors  \\\n",
       "0                William Wellman   \n",
       "3                 Harry Beaumont   \n",
       "6   Irving Cummings, Raoul Walsh   \n",
       "9                 George W. Hill   \n",
       "13                Wesley Ruggles   \n",
       "\n",
       "                                              Authors  \\\n",
       "0                       Hope Loring, Louis D. Lighton   \n",
       "3       James Gleason, Norman Houston, Sarah Y. Mason   \n",
       "6                                           Tom Barry   \n",
       "9   Frances Marion, Martin Flavin, Joseph Farnham,...   \n",
       "13                      Howard Estabrook, Edna Ferber   \n",
       "\n",
       "                                               Actors Original Release Date  \\\n",
       "0   Clara Bow, Charles 'Buddy' Rogers, Richard Arl...            1927-08-12   \n",
       "3   Anita Page, Bessie Love, Charles King, Jed Pro...            1929-02-01   \n",
       "6   Warner Baxter, Edmund Lowe, Dorothy Burgess, J...            1928-12-25   \n",
       "9   Wallace Beery, Robert Montgomery, Chester Morr...            1930-05-14   \n",
       "13  Richard Dix, Irene Dunne, Estelle Taylor, Nanc...            1931-01-26   \n",
       "\n",
       "   Streaming Release Date                 Production Company  \\\n",
       "0              2017-01-02                            Unknown   \n",
       "3              2017-02-25             MGM Home Entertainment   \n",
       "6              2017-03-12  20th Century Fox Film Corporation   \n",
       "9              2012-04-16                       Warner Bros.   \n",
       "13             2017-01-08             MGM Home Entertainment   \n",
       "\n",
       "   Tomatometer Status  Tomatometer Rating  Tomatometer Count Audience Status  \\\n",
       "0     Certified-Fresh                  93                 46         Upright   \n",
       "3              Rotten                  33                 24         Spilled   \n",
       "6              Rotten                  56                  9         Spilled   \n",
       "9               Fresh                  75                  8         Upright   \n",
       "13             Rotten                  50                 24         Spilled   \n",
       "\n",
       "    Audience Rating  Audience Count  Tomatometer Top Critics Count  \\\n",
       "0                78              78                              9   \n",
       "3                21              21                              7   \n",
       "6                38              38                              2   \n",
       "9                69              69                              0   \n",
       "13               25              25                              6   \n",
       "\n",
       "    Tomatometer Fresh Critics Count  Tomatometer Rotten Critics Count  \\\n",
       "0                                43                                 3   \n",
       "3                                 8                                16   \n",
       "6                                 5                                 4   \n",
       "9                                 6                                 2   \n",
       "13                               12                                12   \n",
       "\n",
       "                                 Film ID  \n",
       "0   2becf7d5-a3de-46ab-ae45-abdd6b588067  \n",
       "3   de063f3f-2d35-4e1c-8636-6eb4c16bd236  \n",
       "6   a0644f19-a136-44c2-ab5d-50978ef19608  \n",
       "9   297aa285-29d7-4a22-b833-c5632ab3e562  \n",
       "13  db2683c0-128e-4b5c-858f-d9f18c2fb9b9  "
      ]
     },
     "execution_count": 86,
     "metadata": {},
     "output_type": "execute_result"
    }
   ],
   "source": [
    "# Хранить данные без выбросов в отдельном DataFrame.\n",
    "index_list = list(data_filtered.index.values)\n",
    "data_filtered = data[data.index.isin(index_list)]\n",
    "data_filtered.head()"
   ]
  },
  {
   "attachments": {},
   "cell_type": "markdown",
   "metadata": {},
   "source": [
    "Рассмотрим гистограммы быз выбросов"
   ]
  },
  {
   "cell_type": "code",
   "execution_count": 89,
   "metadata": {},
   "outputs": [
    {
     "data": {
      "image/png": "[encoded data removed]",
      "text/plain": [
       "<Figure size 640x480 with 1 Axes>"
      ]
     },
     "metadata": {},
     "output_type": "display_data"
    },
    {
     "data": {
      "image/png": "[encoded data removed]",
      "text/plain": [
       "<Figure size 640x480 with 1 Axes>"
      ]
     },
     "metadata": {},
     "output_type": "display_data"
    },
    {
     "data": {
      "image/png": "[encoded data removed]",
      "text/plain": [
       "<Figure size 640x480 with 1 Axes>"
      ]
     },
     "metadata": {},
     "output_type": "display_data"
    }
   ],
   "source": [
    "# создать гистограмму с отфильтрованным выбросом\n",
    "filtered_outlier=data_filtered[[\"Tomatometer Count\", \"Tomatometer Rating\", \"IMDB Votes\"]]\n",
    "for col in filtered_outlier:\n",
    "    data_filtered.hist(col, bins=100)"
   ]
  },
  {
   "attachments": {},
   "cell_type": "markdown",
   "metadata": {},
   "source": [
    "Выбросы обработаны, вернемся к EDA"
   ]
  },
  {
   "attachments": {},
   "cell_type": "markdown",
   "metadata": {},
   "source": [
    "Рассмотрим зависимость между рейтингом фильма и его оценками, рассмотрим графики scatter plot для фильмов с максимально доступным рейтингом и максимально недосутпным, и средний еще, где X и Y - рейтинги IMDB и Audience"
   ]
  },
  {
   "cell_type": "code",
   "execution_count": 90,
   "metadata": {},
   "outputs": [
    {
     "data": {
      "text/plain": [
       "Content Rating\n",
       "G           48\n",
       "NR         107\n",
       "PG          78\n",
       "PG-13       68\n",
       "R          138\n",
       "unknown    132\n",
       "Name: Content Rating, dtype: int64"
      ]
     },
     "execution_count": 90,
     "metadata": {},
     "output_type": "execute_result"
    }
   ],
   "source": [
    "data.groupby(\"Content Rating\")[\"Content Rating\"].count()"
   ]
  },
  {
   "cell_type": "code",
   "execution_count": 92,
   "metadata": {},
   "outputs": [
    {
     "data": {
      "text/plain": [
       "<seaborn.axisgrid.FacetGrid at 0x29c5de56780>"
      ]
     },
     "execution_count": 92,
     "metadata": {},
     "output_type": "execute_result"
    },
    {
     "data": {
      "image/png": "[encoded data removed]",
      "text/plain": [
       "<Figure size 500x500 with 1 Axes>"
      ]
     },
     "metadata": {},
     "output_type": "display_data"
    },
    {
     "data": {
      "image/png": "[encoded data removed]",
      "text/plain": [
       "<Figure size 500x500 with 1 Axes>"
      ]
     },
     "metadata": {},
     "output_type": "display_data"
    },
    {
     "data": {
      "image/png": "[encoded data removed]",
      "text/plain": [
       "<Figure size 500x500 with 1 Axes>"
      ]
     },
     "metadata": {},
     "output_type": "display_data"
    }
   ],
   "source": [
    "sns.lmplot(data_filtered[data_filtered[\"Content Rating\"] == \"G\"], x=\"IMDB Rating\", y=\"Audience Rating\")\n",
    "sns.lmplot(data_filtered[data_filtered[\"Content Rating\"] == \"PG-13\"], x=\"IMDB Rating\", y=\"Audience Rating\")\n",
    "sns.lmplot(data_filtered[data_filtered[\"Content Rating\"] == \"R\"], x=\"IMDB Rating\", y=\"Audience Rating\")"
   ]
  },
  {
   "attachments": {},
   "cell_type": "markdown",
   "metadata": {},
   "source": [
    "Вцелом понятно что оценки IMDB и Audience сильно связаны, но можно сказать что самый малый разброс оценок у уже взрослых людей, а самый большой разброс у подростков"
   ]
  },
  {
   "cell_type": "code",
   "execution_count": 93,
   "metadata": {},
   "outputs": [
    {
     "data": {
      "text/plain": [
       "<Axes: title={'center': 'Audience Rating'}, xlabel='Content Rating'>"
      ]
     },
     "execution_count": 93,
     "metadata": {},
     "output_type": "execute_result"
    },
    {
     "data": {
      "image/png": "[encoded data removed]",
      "text/plain": [
       "<Figure size 640x480 with 1 Axes>"
      ]
     },
     "metadata": {},
     "output_type": "display_data"
    },
    {
     "data": {
      "image/png": "[encoded data removed]",
      "text/plain": [
       "<Figure size 640x480 with 1 Axes>"
      ]
     },
     "metadata": {},
     "output_type": "display_data"
    }
   ],
   "source": [
    "data_filtered.boxplot(by=\"Content Rating\", column=\"IMDB Rating\", grid=True)\n",
    "data_filtered.boxplot(by=\"Content Rating\", column=\"Audience Rating\", grid=True)"
   ]
  },
  {
   "attachments": {},
   "cell_type": "markdown",
   "metadata": {},
   "source": [
    "Во первых видно что аудитория вцелом принимает фильмы лучше и ставит более высокие оценки чем IMDB\n",
    "Во вторых видно что для категорий PG и R(17+) оценки вцелом выше чем у остальных категорий и между собой почти равны, но у R количество более низких оценок больше чем  PG, \n"
   ]
  },
  {
   "cell_type": "code",
   "execution_count": null,
   "metadata": {},
   "outputs": [],
   "source": []
  }
 ],
 "metadata": {
  "ExecuteTimeLog": [
   {
    "duration": 828,
    "start_time": "2021-11-16T09:21:11.304Z"
   },
   {
    "duration": 893,
    "start_time": "2021-11-16T09:21:17.728Z"
   },
   {
    "duration": 1150,
    "start_time": "2021-11-16T09:21:29.568Z"
   },
   {
    "duration": 3,
    "start_time": "2021-11-16T09:24:14.495Z"
   },
   {
    "duration": 120,
    "start_time": "2021-11-16T09:24:46.630Z"
   },
   {
    "duration": 3,
    "start_time": "2021-11-16T09:28:27.882Z"
   },
   {
    "duration": 4,
    "start_time": "2021-11-16T09:29:54.281Z"
   },
   {
    "duration": 3,
    "start_time": "2021-11-16T09:30:45.936Z"
   },
   {
    "duration": 4,
    "start_time": "2021-11-16T09:31:06.300Z"
   },
   {
    "duration": 113,
    "start_time": "2021-11-16T09:31:37.208Z"
   },
   {
    "duration": 143,
    "start_time": "2021-11-16T09:31:48.656Z"
   },
   {
    "duration": 98,
    "start_time": "2021-11-16T09:31:55.678Z"
   },
   {
    "duration": 3,
    "start_time": "2021-11-16T09:32:08.535Z"
   },
   {
    "duration": 111,
    "start_time": "2021-11-16T09:32:10.120Z"
   },
   {
    "duration": 3,
    "start_time": "2021-11-16T09:32:15.732Z"
   },
   {
    "duration": 4,
    "start_time": "2021-11-16T09:32:29.423Z"
   },
   {
    "duration": 3,
    "start_time": "2021-11-16T10:03:03.074Z"
   },
   {
    "duration": 3,
    "start_time": "2021-11-16T10:10:01.288Z"
   },
   {
    "duration": 3,
    "start_time": "2021-11-16T10:10:46.923Z"
   },
   {
    "duration": 121,
    "start_time": "2021-11-16T10:37:46.494Z"
   },
   {
    "duration": 125,
    "start_time": "2021-11-16T10:38:20.632Z"
   },
   {
    "duration": 112,
    "start_time": "2021-11-16T10:46:53.001Z"
   },
   {
    "duration": 110,
    "start_time": "2021-11-16T10:48:25.775Z"
   },
   {
    "duration": 3,
    "start_time": "2021-11-16T10:50:18.720Z"
   },
   {
    "duration": 4,
    "start_time": "2021-11-16T10:50:37.649Z"
   },
   {
    "duration": 2,
    "start_time": "2021-11-16T10:50:51.884Z"
   },
   {
    "duration": 3,
    "start_time": "2021-11-16T10:51:56.237Z"
   },
   {
    "duration": 101,
    "start_time": "2021-11-16T10:53:13.791Z"
   },
   {
    "duration": 3,
    "start_time": "2021-11-16T10:55:59.186Z"
   },
   {
    "duration": 3,
    "start_time": "2021-11-16T10:56:10.751Z"
   },
   {
    "duration": 3,
    "start_time": "2021-11-16T10:56:49.038Z"
   },
   {
    "duration": 3,
    "start_time": "2021-11-16T10:56:49.174Z"
   },
   {
    "duration": 4,
    "start_time": "2021-11-16T10:56:49.414Z"
   },
   {
    "duration": 3,
    "start_time": "2021-11-16T10:56:49.680Z"
   },
   {
    "duration": 3,
    "start_time": "2021-11-16T10:56:50.370Z"
   },
   {
    "duration": 114,
    "start_time": "2021-11-16T10:59:34.518Z"
   },
   {
    "duration": 3,
    "start_time": "2021-11-16T11:01:41.201Z"
   },
   {
    "duration": 116,
    "start_time": "2021-11-16T11:01:48.754Z"
   },
   {
    "duration": 3,
    "start_time": "2021-11-16T11:02:16.685Z"
   },
   {
    "duration": 3,
    "start_time": "2021-11-16T11:02:19.479Z"
   },
   {
    "duration": 3,
    "start_time": "2021-11-16T11:02:47.067Z"
   },
   {
    "duration": 3,
    "start_time": "2021-11-16T11:02:49.353Z"
   },
   {
    "duration": 3,
    "start_time": "2021-11-16T11:03:07.835Z"
   },
   {
    "duration": 3,
    "start_time": "2021-11-16T11:03:07.953Z"
   },
   {
    "duration": 112,
    "start_time": "2021-11-16T11:07:52.072Z"
   },
   {
    "duration": 187,
    "start_time": "2021-11-16T11:09:23.468Z"
   },
   {
    "duration": 4,
    "start_time": "2021-11-16T11:10:01.455Z"
   },
   {
    "duration": 3,
    "start_time": "2021-11-16T11:10:05.069Z"
   },
   {
    "duration": 4,
    "start_time": "2021-11-16T11:10:13.376Z"
   },
   {
    "duration": 3,
    "start_time": "2021-11-16T11:10:14.434Z"
   },
   {
    "duration": 3,
    "start_time": "2021-11-16T11:10:22.853Z"
   },
   {
    "duration": 4,
    "start_time": "2021-11-16T11:27:29.279Z"
   },
   {
    "duration": 4,
    "start_time": "2021-11-16T11:29:08.919Z"
   },
   {
    "duration": 118,
    "start_time": "2021-11-16T11:29:46.703Z"
   },
   {
    "duration": 437,
    "start_time": "2021-11-16T11:36:02.181Z"
   },
   {
    "duration": 157,
    "start_time": "2021-11-16T11:36:14.388Z"
   },
   {
    "duration": 207,
    "start_time": "2021-11-16T11:47:15.898Z"
   },
   {
    "duration": 3,
    "start_time": "2021-11-16T11:53:52.092Z"
   },
   {
    "duration": 3,
    "start_time": "2021-11-16T11:53:52.236Z"
   },
   {
    "duration": 3,
    "start_time": "2021-11-16T11:59:12.005Z"
   },
   {
    "duration": 112,
    "start_time": "2021-11-16T12:00:33.446Z"
   },
   {
    "duration": 3,
    "start_time": "2021-11-16T12:02:14.453Z"
   },
   {
    "duration": 3,
    "start_time": "2021-11-16T12:02:39.512Z"
   },
   {
    "duration": 106,
    "start_time": "2021-11-16T12:03:03.460Z"
   }
  ],
  "colab": {
   "provenance": []
  },
  "kernelspec": {
   "display_name": "Python 3 (ipykernel)",
   "language": "python",
   "name": "python3"
  },
  "language_info": {
   "codemirror_mode": {
    "name": "ipython",
    "version": 3
   },
   "file_extension": ".py",
   "mimetype": "text/x-python",
   "name": "python",
   "nbconvert_exporter": "python",
   "pygments_lexer": "ipython3",
   "version": "3.12.7"
  },
  "nbTranslate": {
   "displayLangs": [
    "*"
   ],
   "hotkey": "alt-t",
   "langInMainMenu": true,
   "sourceLang": "en",
   "targetLang": "fr",
   "useGoogleTranslate": true
  },
  "toc": {
   "base_numbering": 1,
   "nav_menu": {},
   "number_sections": true,
   "sideBar": true,
   "skip_h1_title": false,
   "title_cell": "Table of Contents",
   "title_sidebar": "Contents",
   "toc_cell": false,
   "toc_position": {
    "height": "727px",
    "left": "72px",
    "top": "111.125px",
    "width": "287.969px"
   },
   "toc_section_display": true,
   "toc_window_display": true
  }
 },
 "nbformat": 4,
 "nbformat_minor": 4
}
